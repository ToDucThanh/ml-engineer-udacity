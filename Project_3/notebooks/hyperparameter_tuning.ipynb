{
 "cells": [
  {
   "cell_type": "code",
   "execution_count": 37,
   "id": "08189249-d873-4061-839c-834f128c2d28",
   "metadata": {
    "tags": []
   },
   "outputs": [],
   "source": [
    "# !pip install ipywidgets==7.6.0"
   ]
  },
  {
   "cell_type": "code",
   "execution_count": 2,
   "id": "5eaac7cb-a8e6-4cfc-b55f-4719ef7fb911",
   "metadata": {
    "tags": []
   },
   "outputs": [],
   "source": [
    "%load_ext autoreload\n",
    "%autoreload 2"
   ]
  },
  {
   "cell_type": "code",
   "execution_count": 3,
   "id": "319b14d1-319b-476f-b24d-95b1734a8605",
   "metadata": {
    "tags": []
   },
   "outputs": [],
   "source": [
    "# !pip install smdebug"
   ]
  },
  {
   "cell_type": "code",
   "execution_count": 3,
   "id": "23b45efa-bf20-4aeb-9119-06da4e4d2bdd",
   "metadata": {
    "tags": []
   },
   "outputs": [],
   "source": [
    "from datetime import datetime\n"
   ]
  },
  {
   "cell_type": "code",
   "execution_count": 4,
   "id": "31ad1b9c-1cf1-4726-8c46-75a9f0f982e4",
   "metadata": {
    "tags": []
   },
   "outputs": [],
   "source": [
    "import sagemaker\n",
    "import boto3\n",
    "\n",
    "from sagemaker.pytorch import PyTorch\n",
    "from sagemaker import get_execution_role\n",
    "\n",
    "from sagemaker.tuner import (\n",
    "    CategoricalParameter,\n",
    "    ContinuousParameter,\n",
    "    HyperparameterTuner,\n",
    ")"
   ]
  },
  {
   "cell_type": "code",
   "execution_count": 5,
   "id": "fa569d03-25d0-48ba-8132-b4daa75b5419",
   "metadata": {
    "tags": []
   },
   "outputs": [],
   "source": [
    "sess = sagemaker.Session()\n",
    "bucket = sess.default_bucket()\n",
    "prefix = \"project-3-cola\"\n",
    "role = get_execution_role()"
   ]
  },
  {
   "cell_type": "code",
   "execution_count": 6,
   "id": "b117fcb1-81ee-4434-9b34-f6634194f1ca",
   "metadata": {
    "tags": []
   },
   "outputs": [],
   "source": [
    "now = str(datetime.now())\n",
    "\n",
    "estimator = PyTorch(\n",
    "    entry_point=\"model_hpo.py\",\n",
    "    source_dir=\"../src\",\n",
    "    output_path=f\"s3://{bucket}/{prefix}\",\n",
    "    checkpoint_s3_uri=f\"s3://{bucket}/{prefix}/checkpoints/{now}\",\n",
    "    base_job_name=\"hyperparametere-tuning-cola\",\n",
    "    role=role,\n",
    "    instance_count=1,\n",
    "    instance_type=\"ml.g4dn.xlarge\",\n",
    "    framework_version=\"1.10\",\n",
    "    py_version=\"py38\",\n",
    "\n",
    ")"
   ]
  },
  {
   "cell_type": "code",
   "execution_count": 7,
   "id": "71c5751e-d89b-4760-9dff-4089fc8343e2",
   "metadata": {
    "tags": []
   },
   "outputs": [],
   "source": [
    "hyperparameter_ranges = {\n",
    "    \"lr\": ContinuousParameter(2e-5, 2e-4),\n",
    "    \"batch-size\": CategoricalParameter([16, 32, 64]),\n",
    "    \"max-length\": CategoricalParameter([128, 256])\n",
    "}"
   ]
  },
  {
   "cell_type": "code",
   "execution_count": 8,
   "id": "2b451896-811f-4f99-800d-7ea0287121f0",
   "metadata": {
    "tags": []
   },
   "outputs": [],
   "source": [
    "objective_metric_name = \"Average Validation Loss\"\n",
    "objective_type = \"Minimize\"\n",
    "metric_definitions = [{\"Name\": \"Average Validation Loss\", \"Regex\": \"Validation set: Average loss: ([0-9\\\\.]+)\"}]"
   ]
  },
  {
   "cell_type": "code",
   "execution_count": 9,
   "id": "c159d1b6-f880-4cea-a070-e70060d0a987",
   "metadata": {
    "tags": []
   },
   "outputs": [],
   "source": [
    "tuner = HyperparameterTuner(\n",
    "    estimator,\n",
    "    objective_metric_name,\n",
    "    hyperparameter_ranges,\n",
    "    metric_definitions,\n",
    "    max_jobs=2,\n",
    "    max_parallel_jobs=2,\n",
    "    objective_type=objective_type,\n",
    ")"
   ]
  },
  {
   "cell_type": "code",
   "execution_count": 10,
   "id": "adcc858f-569c-435c-9f81-ad438ba595cc",
   "metadata": {
    "tags": []
   },
   "outputs": [
    {
     "name": "stdout",
     "output_type": "stream",
     "text": [
      "................................................................................................................................................................................................................................................................................................................................................................................................................................................................................................................................................................................................................!\n"
     ]
    }
   ],
   "source": [
    "tuner.fit(wait=True)"
   ]
  },
  {
   "cell_type": "code",
   "execution_count": 11,
   "id": "bd664334-d413-44a3-ab15-ab497968680f",
   "metadata": {
    "tags": []
   },
   "outputs": [
    {
     "data": {
      "text/plain": [
       "'pytorch-training-230930-1009-001-673f1072'"
      ]
     },
     "execution_count": 11,
     "metadata": {},
     "output_type": "execute_result"
    }
   ],
   "source": [
    "tuner.best_training_job()"
   ]
  },
  {
   "cell_type": "code",
   "execution_count": 14,
   "id": "c06a7524-c7ac-47d1-a8f7-eade4281b672",
   "metadata": {
    "tags": []
   },
   "outputs": [
    {
     "name": "stdout",
     "output_type": "stream",
     "text": [
      "\n",
      "2023-09-30 10:54:49 Starting - Preparing the instances for training\n",
      "2023-09-30 10:54:49 Downloading - Downloading input data\n",
      "2023-09-30 10:54:49 Training - Training image download completed. Training in progress.\n",
      "2023-09-30 10:54:49 Uploading - Uploading generated training model\n",
      "2023-09-30 10:54:49 Completed - Resource released due to keep alive period expiry\n"
     ]
    },
    {
     "data": {
      "text/plain": [
       "{'_tuning_objective_metric': '\"Average Validation Loss\"',\n",
       " 'batch-size': '\"64\"',\n",
       " 'lr': '0.00015571726483079338',\n",
       " 'max-length': '\"256\"',\n",
       " 'sagemaker_container_log_level': '20',\n",
       " 'sagemaker_estimator_class_name': '\"PyTorch\"',\n",
       " 'sagemaker_estimator_module': '\"sagemaker.pytorch.estimator\"',\n",
       " 'sagemaker_job_name': '\"hyperparametere-tuning-cola-2023-09-30-10-09-01-165\"',\n",
       " 'sagemaker_program': '\"model_hpo.py\"',\n",
       " 'sagemaker_region': '\"us-east-1\"',\n",
       " 'sagemaker_submit_directory': '\"s3://sagemaker-us-east-1-046017406246/hyperparametere-tuning-cola-2023-09-30-10-09-01-165/source/sourcedir.tar.gz\"'}"
      ]
     },
     "execution_count": 14,
     "metadata": {},
     "output_type": "execute_result"
    }
   ],
   "source": [
    "tuner.best_estimator().hyperparameters()"
   ]
  },
  {
   "cell_type": "code",
   "execution_count": 53,
   "id": "0b2a4297-61f2-4934-98ab-759075d7a6fd",
   "metadata": {},
   "outputs": [
    {
     "name": "stdout",
     "output_type": "stream",
     "text": [
      "Training jobname: script-mode-cola-2023-09-24-17-48-04-920\n",
      "Region: us-east-1\n",
      "[2023-09-24 17:57:58.857 pytorch-1-10-cpu-py38-ml-t3-medium-9c8fa3a7688fa232cbbe37185a11:27 INFO s3_trial.py:42] Loading trial debug-output at path s3://sagemaker-us-east-1-046017406246/project-3-cola/script-mode-cola-2023-09-24-17-48-04-920/debug-output\n",
      "['gradient/Net_W1.bias', 'gradient/Net_W1.weight', 'gradient/Net_bert.embeddings.LayerNorm.bias', 'gradient/Net_bert.embeddings.LayerNorm.weight', 'gradient/Net_bert.embeddings.position_embeddings.weight', 'gradient/Net_bert.embeddings.token_type_embeddings.weight', 'gradient/Net_bert.embeddings.word_embeddings.weight', 'gradient/Net_bert.encoder.layer.0.attention.output.LayerNorm.bias', 'gradient/Net_bert.encoder.layer.0.attention.output.LayerNorm.weight', 'gradient/Net_bert.encoder.layer.0.attention.output.dense.bias', 'gradient/Net_bert.encoder.layer.0.attention.output.dense.weight', 'gradient/Net_bert.encoder.layer.0.attention.self.key.bias', 'gradient/Net_bert.encoder.layer.0.attention.self.key.weight', 'gradient/Net_bert.encoder.layer.0.attention.self.query.bias', 'gradient/Net_bert.encoder.layer.0.attention.self.query.weight', 'gradient/Net_bert.encoder.layer.0.attention.self.value.bias', 'gradient/Net_bert.encoder.layer.0.attention.self.value.weight', 'gradient/Net_bert.encoder.layer.0.intermediate.dense.bias', 'gradient/Net_bert.encoder.layer.0.intermediate.dense.weight', 'gradient/Net_bert.encoder.layer.0.output.LayerNorm.bias', 'gradient/Net_bert.encoder.layer.0.output.LayerNorm.weight', 'gradient/Net_bert.encoder.layer.0.output.dense.bias', 'gradient/Net_bert.encoder.layer.0.output.dense.weight', 'gradient/Net_bert.encoder.layer.1.attention.output.LayerNorm.bias', 'gradient/Net_bert.encoder.layer.1.attention.output.LayerNorm.weight', 'gradient/Net_bert.encoder.layer.1.attention.output.dense.bias', 'gradient/Net_bert.encoder.layer.1.attention.output.dense.weight', 'gradient/Net_bert.encoder.layer.1.attention.self.key.bias', 'gradient/Net_bert.encoder.layer.1.attention.self.key.weight', 'gradient/Net_bert.encoder.layer.1.attention.self.query.bias', 'gradient/Net_bert.encoder.layer.1.attention.self.query.weight', 'gradient/Net_bert.encoder.layer.1.attention.self.value.bias', 'gradient/Net_bert.encoder.layer.1.attention.self.value.weight', 'gradient/Net_bert.encoder.layer.1.intermediate.dense.bias', 'gradient/Net_bert.encoder.layer.1.intermediate.dense.weight', 'gradient/Net_bert.encoder.layer.1.output.LayerNorm.bias', 'gradient/Net_bert.encoder.layer.1.output.LayerNorm.weight', 'gradient/Net_bert.encoder.layer.1.output.dense.bias', 'gradient/Net_bert.encoder.layer.1.output.dense.weight', 'nll_loss_output_0']\n",
      "2\n",
      "1\n"
     ]
    }
   ],
   "source": [
    "session = boto3.session.Session()\n",
    "region = session.region_name\n",
    "\n",
    "training_job_name = estimator.latest_training_job.name\n",
    "print(f\"Training jobname: {training_job_name}\")\n",
    "print(f\"Region: {region}\")\n",
    "\n",
    "trial = create_trial(estimator.latest_job_debugger_artifacts_path())\n",
    "\n",
    "print(trial.tensor_names())\n",
    "print(len(trial.tensor(\"nll_loss_output_0\").steps(mode=ModeKeys.TRAIN)))\n",
    "print(len(trial.tensor(\"nll_loss_output_0\").steps(mode=ModeKeys.EVAL)))"
   ]
  },
  {
   "cell_type": "code",
   "execution_count": 54,
   "id": "126fc2e0-4a80-409e-a02b-0c1452139e52",
   "metadata": {
    "tags": []
   },
   "outputs": [
    {
     "name": "stdout",
     "output_type": "stream",
     "text": [
      "ProfilerConfig:{'S3OutputPath': 's3://sagemaker-us-east-1-046017406246/project-3-cola', 'ProfilingIntervalInMilliseconds': 500, 'ProfilingParameters': {'DataloaderProfilingConfig': '{\"StartStep\": 0, \"NumSteps\": 10, \"MetricsRegex\": \".*\", }', 'DetailedProfilingConfig': '{\"StartStep\": 0, \"NumSteps\": 10, }', 'FileOpenFailThreshold': '50', 'HorovodProfilingConfig': '{\"StartStep\": 0, \"NumSteps\": 10, }', 'LocalPath': '/opt/ml/output/profiler', 'PythonProfilingConfig': '{\"StartStep\": 0, \"NumSteps\": 10, \"ProfilerName\": \"cprofile\", \"cProfileTimer\": \"total_time\", }', 'RotateFileCloseIntervalInSeconds': '60', 'RotateMaxFileSizeInBytes': '10485760', 'SMDataParallelProfilingConfig': '{\"StartStep\": 0, \"NumSteps\": 10, }'}}\n",
      "s3 path:s3://sagemaker-us-east-1-046017406246/project-3-cola/script-mode-cola-2023-09-24-17-48-04-920/profiler-output\n",
      "\n",
      "\n",
      "Profiler data from system is available\n",
      "[2023-09-24 17:58:15.533 pytorch-1-10-cpu-py38-ml-t3-medium-9c8fa3a7688fa232cbbe37185a11:27 INFO metrics_reader_base.py:134] Getting 7 event files\n",
      "select events:['total']\n",
      "select dimensions:['CPU', 'GPU']\n",
      "filtered_events:{'total'}\n",
      "filtered_dimensions:{'GPUMemoryUtilization-nodeid:algo-1', 'CPUUtilization-nodeid:algo-1', 'GPUUtilization-nodeid:algo-1'}\n"
     ]
    },
    {
     "data": {
      "text/html": [
       "\n",
       "\n",
       "\n",
       "\n",
       "\n",
       "\n",
       "  <div class=\"bk-root\" id=\"b6422f69-d831-4cbe-a6e4-5f09b62c1eb9\" data-root-id=\"1804\"></div>\n"
      ]
     },
     "metadata": {},
     "output_type": "display_data"
    },
    {
     "data": {
      "application/javascript": "(function(root) {\n  function embed_document(root) {\n    \n  const docs_json = {\"6553023d-f56f-478b-8e9e-9b1373cad61a\":{\"defs\":[],\"roots\":{\"references\":[{\"attributes\":{\"children\":[{\"id\":\"1803\"},{\"id\":\"1681\"}]},\"id\":\"1804\",\"type\":\"Row\"},{\"attributes\":{},\"id\":\"1743\",\"type\":\"SaveTool\"},{\"attributes\":{},\"id\":\"1898\",\"type\":\"UnionRenderers\"},{\"attributes\":{\"axis_label\":\"CPUUtilization-nodeid:algo-1_total\",\"coordinates\":null,\"formatter\":{\"id\":\"1884\"},\"group\":null,\"major_label_policy\":{\"id\":\"1885\"},\"ticker\":{\"id\":\"1736\"}},\"id\":\"1735\",\"type\":\"LinearAxis\"},{\"attributes\":{},\"id\":\"1882\",\"type\":\"AllLabels\"},{\"attributes\":{},\"id\":\"1899\",\"type\":\"Selection\"},{\"attributes\":{\"axis\":{\"id\":\"1735\"},\"coordinates\":null,\"dimension\":1,\"group\":null,\"ticker\":null,\"visible\":false},\"id\":\"1738\",\"type\":\"Grid\"},{\"attributes\":{},\"id\":\"1736\",\"type\":\"BasicTicker\"},{\"attributes\":{},\"id\":\"1741\",\"type\":\"PanTool\"},{\"attributes\":{\"dimensions\":\"width\",\"overlay\":{\"id\":\"1745\"}},\"id\":\"1740\",\"type\":\"BoxSelectTool\"},{\"attributes\":{},\"id\":\"1881\",\"type\":\"BasicTickFormatter\"},{\"attributes\":{},\"id\":\"1739\",\"type\":\"CrosshairTool\"},{\"attributes\":{\"fill_alpha\":{\"value\":0},\"line_width\":{\"value\":0},\"x\":{\"field\":\"x\"},\"y\":{\"field\":\"y\"}},\"id\":\"1796\",\"type\":\"Circle\"},{\"attributes\":{},\"id\":\"1742\",\"type\":\"ResetTool\"},{\"attributes\":{\"dimensions\":\"width\"},\"id\":\"1744\",\"type\":\"WheelZoomTool\"},{\"attributes\":{\"end\":102},\"id\":\"1765\",\"type\":\"Range1d\"},{\"attributes\":{},\"id\":\"1890\",\"type\":\"BasicTickFormatter\"},{\"attributes\":{\"bottom_units\":\"screen\",\"coordinates\":null,\"fill_alpha\":0.5,\"fill_color\":\"lightgrey\",\"group\":null,\"left_units\":\"screen\",\"level\":\"overlay\",\"line_alpha\":1.0,\"line_color\":\"black\",\"line_dash\":[4,4],\"line_width\":2,\"right_units\":\"screen\",\"syncable\":false,\"top_units\":\"screen\"},\"id\":\"1745\",\"type\":\"BoxAnnotation\"},{\"attributes\":{\"children\":[{\"id\":\"1682\"},{\"id\":\"1723\"},{\"id\":\"1763\"}]},\"id\":\"1803\",\"type\":\"Column\"},{\"attributes\":{},\"id\":\"1891\",\"type\":\"AllLabels\"},{\"attributes\":{},\"id\":\"1893\",\"type\":\"BasicTickFormatter\"},{\"attributes\":{\"below\":[{\"id\":\"1771\"}],\"center\":[{\"id\":\"1774\"},{\"id\":\"1778\"}],\"height\":200,\"js_event_callbacks\":{\"selectiongeometry\":[{\"id\":\"1794\"}]},\"left\":[{\"id\":\"1775\"}],\"renderers\":[{\"id\":\"1797\"},{\"id\":\"1799\"}],\"title\":{\"id\":\"1875\"},\"toolbar\":{\"id\":\"1786\"},\"width\":1000,\"x_range\":{\"id\":\"1683\"},\"x_scale\":{\"id\":\"1767\"},\"y_range\":{\"id\":\"1765\"},\"y_scale\":{\"id\":\"1769\"}},\"id\":\"1763\",\"subtype\":\"Figure\",\"type\":\"Plot\"},{\"attributes\":{\"coordinates\":null,\"data_source\":{\"id\":\"1793\"},\"glyph\":{\"id\":\"1795\"},\"group\":null,\"hover_glyph\":null,\"view\":{\"id\":\"1798\"}},\"id\":\"1797\",\"type\":\"GlyphRenderer\"},{\"attributes\":{},\"id\":\"1894\",\"type\":\"AllLabels\"},{\"attributes\":{\"source\":{\"id\":\"1793\"}},\"id\":\"1798\",\"type\":\"CDSView\"},{\"attributes\":{\"source\":{\"id\":\"1753\"}},\"id\":\"1760\",\"type\":\"CDSView\"},{\"attributes\":{\"line_color\":\"blue\",\"x\":{\"field\":\"x\"},\"y\":{\"field\":\"y\"}},\"id\":\"1795\",\"type\":\"Line\"},{\"attributes\":{\"coordinates\":null,\"data_source\":{\"id\":\"1753\"},\"glyph\":{\"id\":\"1756\"},\"group\":null,\"hover_glyph\":null,\"view\":{\"id\":\"1760\"}},\"id\":\"1759\",\"type\":\"GlyphRenderer\"},{\"attributes\":{\"callback\":null,\"renderers\":[{\"id\":\"1799\"}],\"tooltips\":[[\"index\",\"$index\"],[\"(x,y)\",\"($x, $y)\"]]},\"id\":\"1801\",\"type\":\"HoverTool\"},{\"attributes\":{\"source\":{\"id\":\"1793\"}},\"id\":\"1800\",\"type\":\"CDSView\"},{\"attributes\":{\"coordinates\":null,\"data_source\":{\"id\":\"1793\"},\"glyph\":{\"id\":\"1796\"},\"group\":null,\"hover_glyph\":null,\"view\":{\"id\":\"1800\"}},\"id\":\"1799\",\"type\":\"GlyphRenderer\"},{\"attributes\":{},\"id\":\"1895\",\"type\":\"UnionRenderers\"},{\"attributes\":{},\"id\":\"1901\",\"type\":\"UnionRenderers\"},{\"attributes\":{\"data\":{\"x\":{\"__ndarray__\":\"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\",\"dtype\":\"float64\",\"order\":\"little\",\"shape\":[677]},\"y\":{\"__ndarray__\":\"AAAAAAAAAAAAAAAAAAAAAAAAAAAAAAAAAAAAAAAAAAAAAAAAAAAAAAAAAAAAAAAAAAAAAAAAAAAAAAAAAAAAAAAAAAAAAAAAAAAAAAAAAAAAAAAAAAAAAAAAAAAAAAAAAAAAAAAAAAAAAAAAAAAAAAAAAAAAAAAAAAAAAAAAAAAAAAAAAAAAAAAAAAAAAAAAAAAAAAAAAAAAAAAAAAAAAAAAAAAAAAAAAAAAAAAAAAAAAAAAAAAAAAAAAAAAAAAAAAAAAAAAAAAAAAAAAAAAAAAAAAAAAAAAAAAAAAAAAAAAAAAAAAAAAAAAAAAAAAAAAAAAAAAAAAAAAAAAAAAAAAAAAAAAAAAAAAAAAAAAAAAAAAAAAAAAAAAAAAAAAAAAAAAAAAAAAAAAAAAAAAAAAAAAAAAAAAAAAAAAAAAAAAAAAAAAAAAAAAAAAAAAAAAAAAAAAAAAAAAAAAAAAAAAAAAAAAAAAAAAAAAAAAAAAAAAAAAAAAAAAAAAAAAAAAAAAAAAAAAAAAAAAAAAAAAAAAAAAAAAAAAAAAAAAAAAAAAAAAAAAAAAAAAAAAAAAAAAAAAAAAAAAAAAAAAAAAAAAAAAAAAAAAAAAAAAAAAAAAAAAAAAAAAAAAAAAAAAAAAAAAAAAAAAAAAAAAAAAAAAAAAAAAAAAAAAAAAAAAAAAAAAAAAAAAAAAAAAAAAAAAAAAAAAAAAAAAAAAAAAAAAAAAAAAAAAAAAAAAAAAAAAAAAAAAAAAAAAAAAAAAAAAAAAAAAAAAAAAAAAAAAAAAAAAAAAAAAAAAAAAAAAAAAAAAAAAAAAAAAAAAAAAAAAAAAAAAAAAAAAAAAAAAAAAAAAAAAAAAAAAAAAAAAAAAAAAAAAAAAAAAAAAAAAAAAAAAAAAAAAAAAAAAAAAAAAAAAAAAAAAAAAAAAAAAAAAAAAAAAAAAAAAAAAAAAAAAAAAAAAAAAAAAAAAAAAAAAAAAAAAAAAAAAAAAAAAAAAAAAAAAAAAAAAAAAAAAAAAAAAAAAAAAAAAAAAAAAAAAAAAAAAAAAAAAAAAAAAAAAAAAAAAAAAAAAAAAAAAAAAAAAAAAAAAAAAAAAAAAAAAAAAAAAAAAAAAAAAAAAAAAAAAAAAAAAAAAAAAAAAAAAAAAAAAAAAAAAAAAAAAAAAAAAAAAAAAAAAAAAAAAAAAAAAAAAAAAAAAAAAAAAAAAAAAAAAAAAAAAAAAAAAAAAAAAAAAAAAAAAAAAAAAAAAAAAAAAAAAAAAAAAAAAAAAAAAAAAAAAAAAAAAAAAAAAAAAAAAAAAAAAAAAAAAAAAAAAAAAAAAAAAAAAAAAAAAAAAAAAAAAAAAAAAAAAAAAAAAAAAAAAAAAAAAAAAAAAAAAAAAAAAAAAAAAAAAAAAAAAAAAAAAAAAAAAAAAAAAAAAAAAAAAAAAAAAAAAAAAAAAAAAAAAAAAAAAAAAAAAAAAAAAAAAAAAAAAAAAAAAAAAAAAAAAAAAAAAAAAAAAAAAAAAAAAAAAAAAAAAAAAAAAAAAAAAAAAAAAAAAAAAAAAAAAAAAAAAAAAAAAAAAAAAAAAAAAAAAAAAAAAAAAAAAAAAAAAAAAAAAAAAAAAAAAAAAAAAAAAAAAAAAAAAAAAAAAAAAAAAAAAAAAAAAAAAAAAAAAAAAAAAAAAAAAAAAAAAAAAAAAAAAAAAAAAAAAAAAAAAAAAAAAAAAAAAAAAAAAAAAAAAAAAAAAAAAAAAAAAAAAAAAAAAAAAAAAAAAAAAAAAAAAAAAAAAAAAAAAAAAAAAAAAAAAAAAAAAAAAAAAAAAAAAAAAAAAAAAAAAAAAAAAAAAAAAAAAAAAAAAAAAAAAAAAAAAAAAAAAAAAAAAAAAAAAAAAAAAAAAAAAAAAAAAAAAAAAAAAAAAAAAAAAAAAAAAAAAAAAAAAAAAAAAAAAAAAAAAAAAAAAAAAAAAAAAAAAAAAAAAAAAAAAAAAAAAAAAAAAAAAAAAAAAAAAAAAAAAAAAAAAAAAAAAAAAAAAAAAAAAAAAAAAAAAAAAAAAAAAAAAAAAAAAAAAAAAAAAAAAAAAAAAAAAAAAAAAAAAAAAAAAAAAAAAAAAAAAAAAAAAAAAAAAAAAAAAAAAAAAAAAAAAAAAAAAAAAAAAAAAAAAAAAAAAAAAAAAAAAAAAAAAAAAAAAAAAAAAAAAAAAAAAAAAAAAAAAAAAAAAAAAAAAAAAAAAAAAAAAAAAAAAAAAAAAAAAAAAAAAAAAAAAAAAAAAAAAAAAAAAAAAAAAAAAAAAAAAAAAAAAAAAAAAAAAAAAAAAAAAAAAAAAAAAAAAAAAAAAAAAAAAAAAAAAAAAAAAAAAAAAAAAAAAAAAAAAAAAAAAAAAAAAAAAAAAAAAAAAAAAAAAAAAAAAAAAAAAAAAAAAAAAAAAAAAAAAAAAAAAAAAAAAAAAAAAAAAAAAAAAAAAAAAAAAAAAAAAAAAAAAAAAAAAAAAAAAAAAAAAAAAAAAAAAAAAAAAAAAAAAAAAAAAAAAAAAAAAAAAAAAAAAAAAAAAAAAAAAAAAAAAAAAAAAAAAAAAAAAAAAAAAAAAAAAAAAAAAAAAAAAAAAAAAAAAAAAAAAAAAAAAAAAAAAAAAAAAAAAAAAAAAAAAAAAAAAAAAAAAAAAAAAAAAAAAAAAAAAAAAAAAAAAAAAAAAAAAAAAAAAAAAAAAAAAAAAAAAAAAAAAAAAAAAAAAAAAAAAAAAAAAAAAAAAAAAAAAAAAAAAAAAAAAAAAAAAAAAAAAAAAAAAAAAAAAAAAAAAAAAAAAAAAAAAAAAAAAAAAAAAAAAAAAAAAAAAAAAAAAAAAAAAAAAAAAAAAAAAAAAAAAAAAAAAAAAAAAAAAAAAAAAAAAAAAAAAAAAAAAAAAAAAAAAAAAAAAAAAAAAAAAAAAAAAAAAAAAAAAAAAAAAAAAAAAAAAAAAAAAAAAAAAAAAAAAAAAAAAAAAAAAAAAAAAAAAAAAAAAAAAAAAAAAAAAAAAAAAAAAAAAAAAAAAAAAAAAAAAAAAAAAAAAAAAAAAAAAAAAAAAAAAAAAAAAAAAAAAAAAAAAAAAAAAAAAAAAAAAAAAAAAAAAAAAAAAAAAAAAAAAAAAAAAAAAAAAAAAAAAAAAAAAAAAAAAAAAAAAAAAAAAAAAAAAAAAAAAAAAAAAAAAAAAAAAAAAAAAAAAAAAAAAAAAAAAAAAAAAAAAAAAAAAAAAAAAAAAAAAAAAAAAAAAAAAAAAAAAAAAAAAAAAAAAAAAAAAAAAAAAAAAAAAAAAAAAAAAAAAAAAAAAAAAAAAAAAAAAAAAAAAAAAAAAAAAAAAAAAAAAAAAAAAAAAAAAAAAAAAAAAAAAAAAAAAAAAAAAAAAAAAAAAAAAAAAAAAAAAAAAAAAAAAAAAAAAAAAAAAAAAAAAAAAAAAAAAAAAAAAAAAAAAAAAAAAAAAAAAAAAAAAAAAAAAAAAAAAAAAAAAAAAAAAAAAAAAAAAAAAAAAAAAAAAAAAAAAAAAAAAAAAAAAAAAAAAAAAAAAAAAAAAAAAAAAAAAAAAAAAAAAAAAAAAAAAAAAAAAAAAAAAAAAAAAAAAAAAAAAAAAAAAAAAAAAAAAAAAAAAAAAAAAAAAAAAAAAAAAAAAAAAAAAAAAAAAAAAAAAAAAAAAAAAAAAAAAAAAAAAAAAAAAAAAAAAAAAAAAAAAAAAAAAAAAAAAAAAAAAAAAAAAAAAAAAAAAAAAAAAAAAAAAAAAAAAAAAAAAAAAAAAAAAAAAAAAAAAAAAAAAAAAAAAAAAAAAAAAAAAAAAAAAAAAAAAAAAAAAAAAAAAAAAAAAAAAAAAAAAAAAAAAAAAAAAAAAAAAAAAAAAAAAAAAAAAAAAAAAAAAAAAAAAAAAAAAAAAAAAAAAAAAAAAAAAAAAAAAAAAAAAAAAAAAAAAAAAAAAAAAAAAAAAAAAAAAAAAAAAAAAAAAAAAAAAAAAAAAAAAAAAAAAAAAAAAAAAAAAAAAAAAAAAAAAAAAAAAAAAAAAAAAAAAAAAAAAAAAAAAAAAAAAAAAAAAAAAAAAAAAAAAAAAAAAAAAAAAAAAAAAAAAAAAAAAAAAAAAAAAAAAAAAAAAAAAAAAAAAAAAAAAAAAAAAAAAAAAAAAAAAAAAAAAAAAAAAAAAAAAAAAAAAAAAAAAAAAAAAAAAAAAAAAAAAAAAAAAAAAAAAAAAAAAAAAAAAAAAAAAAAAAAAAAAAAAAAAAAAAAAAAAAAAAAAAAAAAAAAAAAAAAAAAAAAAAAAAAAAAAAAAAAAAAAAAAAAAAAAAAAAAAAAAAAAAAAAAAAAAAAAAAAAAAAAAAAAAAAAAAAAAAAAAAAAAAAAAAAAAAAAAAAAAAAAAAAAAAAAAAAAAAAAAAAAAAAAAAAAAAAAAAAAAAAAAAAAAAAAAAAAAAAAAAAAAAAAAAAAAAAAAAAAAAAAAAAAAAAAAAAAAAAAAAAAAAAAAAAAAAAAAAAAAAAAAAAAAAAAAAAAAAAAAAAAAAAAAAAAAAAAAAAAAAAAAAAAAAAAAAAAAAAAAAAAAAAAAAAAAAAAAAAAAAAAAAAAAAAAAAAAAAAAAAAAAAAAAAAAAAAAAAAAAAAAAAAAAAAAAAAAAAAAAAAAAAAAAAAAAAAAAAAAAAAAAAAAAAAAAAAAAAAAAAAAAAAAAAAAAAAAAAAAAAAAAAAAAAAAAAAAAAAAAAAAAAAAAAAAAAAAAAAAAAAAAAAAAAAAAAAAAAAAAAAAAAAAAAAAAAAAAAAAAAAAAAAAAAAAAAAAAAAAAAAAAAAAAAAAAAAAAAAAAAAAAAAAAAAAAAAAAAAAAAAAAAAAAAAAAAAAAAAAAAAAAAAAAAAAAAAAAAAAAAAAAAAAAAAAAAAAAAAAAAAAAAAAAAAAAAAAAAAAAAAAAAAAAAAAAAAAAAAAAAAAAAAAAAAAAAAAAAAAAAAAAAAAAAAAAAAAAAAAAAAAAAAAAAAAAAAAAAAAAAAAAAAAAAAAAAAAAAAAAAAAAAAAAAAAAAAAAAAAAAAAAAAAAAAAAAAAAAAAAAAAAAAAAAAAAAAAAAAAAAAAAAAAAAAAAAAAAAAAAAAAAAAAAAAAAAAAAAAAAAAAAAAAAAAAAAAAAAAAAAAAAAAAAAAAAAAAAAAAAAAAAAAAAAAAAAAAAAAAAAAAAAAAAAAAAAAAAAAAAAAAAAAAAAAAAAAAAAAAAAAAAAAAAAAAAAAAAAAAAAAAAAAAAAAAAAAAAAAAAAAAAAAAAAAAAAAAAAAAAAAAAAAAAAAAAAAAAAAAAAAAAAAAAAAAAAAAAAAAAAAAAAAAAAAAAAAAAAAAAAAAAAAAAAAAAAAAAAAAAAAAAAAAAAAAAAAAAAAAAAAAAAAAAAAAAAAAAAAAAAAAAAAAAAAAAAAAAAAAAAAAAAAAAAAAAAAAAAAAAAAAAAAAAAAAAAAAAAAAAAAAAAAAAAAAAAAAAAAAAAAAAAAAAAAAAAAAAAAAAAAAAAAAAAAAAAAAAAAAAAAAAAAAAAAAAAAAAAAAAAAAAAAAAAAAAAAAAAAAAAAAAAAAAAAAAAAAAAAAAAAAAAAAAAAAAAAAAAAAAAAAAAAAAAAAAAAAAAAAAAAAAAAAAAAAAAAAAAAAAAAAAAAAAAAAAAAAAAAAAAAAAAAAAAAAAAAAAAAAAAAAAAAAAAAAAAAAAAAAAAAAAAAAAAAAAAAAAAAAAAAAAAAAAAAAAAAAAAAAAAAAAAAAAAAAAAAAAAAAAAAAAAAAAAAAAAAAAAAAAAAAAAAAAAAAAABhAAAAAAAAAIkAAAAAAAAAcQAAAAAAAABxAAAAAAAAAAAAAAAAAAAAgQAAAAAAAAAAAAAAAAAAAAAAAAAAAAAAIQAAAAAAAAAhAAAAAAAAAMEAAAAAAAAAAQAAAAAAAABBAAAAAAAAAAAAAAAAAAAAAAAAAAAAAADVAAAAAAAAAAAAAAAAAAAAAAAAAAAAAAAAAAAAAAAAAAAAAAAAAAAAAAAAAAAAAAAAAAAAAAACAQkAAAAAAAAAAAAAAAAAAAAAAAAAAAAAANEAAAAAAAAAAAAAAAAAAgFJAAAAAAACAT0AAAAAAAABIQAAAAAAAAAAAAAAAAAAATkAAAAAAAIBCQAAAAAAAAAAAAAAAAACAT0AAAAAAAAAYQAAAAAAAgERAAAAAAAAASkAAAAAAAIBCQAAAAAAAAFBAAAAAAAAAAAAAAAAAAIBBQAAAAAAAgEZAAAAAAAAAFEAAAAAAAMBSQAAAAAAAAC5AAAAAAAAAFEAAAAAAAIBJQAAAAAAAAEhAAAAAAAAAQEAAAAAAAAAyQAAAAAAAADNAAAAAAACAQkAAAAAAAABIQAAAAAAAADZAAAAAAACATEAAAAAAAABOQAAAAAAAAAAAAAAAAACAS0AAAAAAAAAcQAAAAAAAAAAAAAAAAAAAVEAAAAAAAEBRQAAAAAAAADtAAAAAAACAQUAAAAAAAIBDQAAAAAAAAC5AAAAAAAAAJEAAAAAAAABBQAAAAAAAgFJAAAAAAACAUEAAAAAAAAAAAAAAAAAAAAhAAAAAAACAU0AAAAAAAAA1QAAAAAAAAE5AAAAAAAAAAAAAAAAAAABXQAAAAAAAQFdAAAAAAABAVkAAAAAAAEBVQAAAAAAAQFdAAAAAAACAVkAAAAAAAABXQAAAAAAAwFZAAAAAAADAVEAAAAAAAABWQAAAAAAAAFVAAAAAAABAVUAAAAAAAEBWQAAAAAAAAFZAAAAAAACAVkAAAAAAAABXQAAAAAAAwFZAAAAAAABAVkAAAAAAAEBVQAAAAAAAAFZAAAAAAACAVUAAAAAAAEBWQAAAAAAAAD1AAAAAAAAASkAAAAAAAAAAAAAAAAAAgFFAAAAAAABAVkAAAAAAAMBWQAAAAAAAwFVAAAAAAADAVkAAAAAAAIBVQAAAAAAAgFRAAAAAAADAVEAAAAAAAMBWQAAAAAAAAFZAAAAAAACAVkAAAAAAAIBWQAAAAAAAwFNAAAAAAABAVEAAAAAAAIBWQAAAAAAAwFZAAAAAAACAVkAAAAAAAMBUQAAAAAAAAFVAAAAAAACAVUAAAAAAAMBVQAAAAAAAAFZAAAAAAADAVkAAAAAAAAAAAAAAAAAAgFJAAAAAAAAAAAAAAAAAAEBWQAAAAAAAwFZAAAAAAADAVUAAAAAAAEBXQAAAAAAAQFZAAAAAAACAVkAAAAAAAEBWQAAAAAAAQFZAAAAAAAAAV0AAAAAAAABXQA==\",\"dtype\":\"float64\",\"order\":\"little\",\"shape\":[677]}},\"selected\":{\"id\":\"1902\"},\"selection_policy\":{\"id\":\"1901\"}},\"id\":\"1793\",\"type\":\"ColumnDataSource\"},{\"attributes\":{},\"id\":\"1896\",\"type\":\"Selection\"},{\"attributes\":{},\"id\":\"1902\",\"type\":\"Selection\"},{\"attributes\":{\"args\":{\"div\":{\"id\":\"1681\"},\"s1\":{\"id\":\"1793\"}},\"code\":\"\\n                            console.log('Running CustomJS callback now.');\\n                            var inds = s1.selected.indices;\\n                            console.log(inds);\\n                            var line = \\\"<span style=float:left;clear:left;font_size=13px><b> Selected index range: [\\\" + Math.min.apply(Math,inds) + \\\",\\\" + Math.max.apply(Math,inds) + \\\"]</b></span>\\\\n\\\";\\n                            console.log(line)\\n                            var text = div.text.concat(line);\\n                            var lines = text.split(\\\"\\\\n\\\")\\n                            if (lines.length > 35)\\n                                lines.shift();\\n                            div.text = lines.join(\\\"\\\\n\\\");\"},\"id\":\"1794\",\"type\":\"CustomJS\"},{\"attributes\":{\"tools\":[{\"id\":\"1739\"},{\"id\":\"1740\"},{\"id\":\"1741\"},{\"id\":\"1742\"},{\"id\":\"1743\"},{\"id\":\"1744\"},{\"id\":\"1761\"}]},\"id\":\"1746\",\"type\":\"Toolbar\"},{\"attributes\":{\"fill_alpha\":{\"value\":0},\"line_width\":{\"value\":0},\"x\":{\"field\":\"x\"},\"y\":{\"field\":\"y\"}},\"id\":\"1756\",\"type\":\"Circle\"},{\"attributes\":{\"callback\":null,\"renderers\":[{\"id\":\"1759\"}],\"tooltips\":[[\"index\",\"$index\"],[\"(x,y)\",\"($x, $y)\"]]},\"id\":\"1761\",\"type\":\"HoverTool\"},{\"attributes\":{},\"id\":\"1772\",\"type\":\"BasicTicker\"},{\"attributes\":{},\"id\":\"1767\",\"type\":\"LinearScale\"},{\"attributes\":{},\"id\":\"1769\",\"type\":\"LinearScale\"},{\"attributes\":{\"coordinates\":null,\"group\":null},\"id\":\"1871\",\"type\":\"Title\"},{\"attributes\":{\"axis_label\":\"Time in ms\",\"coordinates\":null,\"formatter\":{\"id\":\"1893\"},\"group\":null,\"major_label_policy\":{\"id\":\"1894\"},\"ticker\":{\"id\":\"1772\"}},\"id\":\"1771\",\"type\":\"LinearAxis\"},{\"attributes\":{\"dimensions\":\"width\",\"overlay\":{\"id\":\"1785\"}},\"id\":\"1780\",\"type\":\"BoxSelectTool\"},{\"attributes\":{\"axis_label\":\"GPUUtilization-nodeid:algo-1_total\",\"coordinates\":null,\"formatter\":{\"id\":\"1890\"},\"group\":null,\"major_label_policy\":{\"id\":\"1891\"},\"ticker\":{\"id\":\"1776\"}},\"id\":\"1775\",\"type\":\"LinearAxis\"},{\"attributes\":{\"axis\":{\"id\":\"1771\"},\"coordinates\":null,\"group\":null,\"ticker\":null,\"visible\":false},\"id\":\"1774\",\"type\":\"Grid\"},{\"attributes\":{},\"id\":\"1783\",\"type\":\"SaveTool\"},{\"attributes\":{\"axis\":{\"id\":\"1775\"},\"coordinates\":null,\"dimension\":1,\"group\":null,\"ticker\":null,\"visible\":false},\"id\":\"1778\",\"type\":\"Grid\"},{\"attributes\":{\"coordinates\":null,\"group\":null},\"id\":\"1873\",\"type\":\"Title\"},{\"attributes\":{},\"id\":\"1776\",\"type\":\"BasicTicker\"},{\"attributes\":{\"tools\":[{\"id\":\"1779\"},{\"id\":\"1780\"},{\"id\":\"1781\"},{\"id\":\"1782\"},{\"id\":\"1783\"},{\"id\":\"1784\"},{\"id\":\"1801\"}]},\"id\":\"1786\",\"type\":\"Toolbar\"},{\"attributes\":{},\"id\":\"1779\",\"type\":\"CrosshairTool\"},{\"attributes\":{},\"id\":\"1781\",\"type\":\"PanTool\"},{\"attributes\":{\"coordinates\":null,\"group\":null},\"id\":\"1875\",\"type\":\"Title\"},{\"attributes\":{\"dimensions\":\"width\"},\"id\":\"1784\",\"type\":\"WheelZoomTool\"},{\"attributes\":{},\"id\":\"1782\",\"type\":\"ResetTool\"},{\"attributes\":{\"bottom_units\":\"screen\",\"coordinates\":null,\"fill_alpha\":0.5,\"fill_color\":\"lightgrey\",\"group\":null,\"left_units\":\"screen\",\"level\":\"overlay\",\"line_alpha\":1.0,\"line_color\":\"black\",\"line_dash\":[4,4],\"line_width\":2,\"right_units\":\"screen\",\"syncable\":false,\"top_units\":\"screen\"},\"id\":\"1785\",\"type\":\"BoxAnnotation\"},{\"attributes\":{\"data\":{\"x\":{\"__ndarray__\":\"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\",\"dtype\":\"float64\",\"order\":\"little\",\"shape\":[677]},\"y\":{\"__ndarray__\":\"AAAAAAAAAAAAAAAAAAAAAAAAAAAAAAAAAAAAAAAAAAAAAAAAAAAAAAAAAAAAAAAAAAAAAAAAAAAAAAAAAAAAAAAAAAAAAAAAAAAAAAAAAAAAAAAAAAAAAAAAAAAAAAAAAAAAAAAAAAAAAAAAAAAAAAAAAAAAAAAAAAAAAAAAAAAAAAAAAAAAAAAAAAAAAAAAAAAAAAAAAAAAAAAAAAAAAAAAAAAAAAAAAAAAAAAAAAAAAAAAAAAAAAAAAAAAAAAAAAAAAAAAAAAAAAAAAAAAAAAAAAAAAAAAAAAAAAAAAAAAAAAAAAAAAAAAAAAAAAAAAAAAAAAAAAAAAAAAAAAAAAAAAAAAAAAAAAAAAAAAAAAAAAAAAAAAAAAAAAAAAAAAAAAAAAAAAAAAAAAAAAAAAAAAAAAAAAAAAAAAAAAAAAAAAAAAAAAAAAAAAAAAAAAAAAAAAAAAAAAAAAAAAAAAAAAAAAAAAAAAAAAAAAAAAAAAAAAAAAAAAAAAAAAAAAAAAAAAAAAAAAAAAAAAAAAAAAAAAAAAAAAAAAAAAAAAAAAAAAAAAAAAAAAAAAAAAAAAAAAAAAAAAAAAAAAAAAAAAAAAAAAAAAAAAAAAAAAAAAAAAAAAAAAAAAAAAAAAAAAAAAAAAAAAAAAAAAAAAAAAAAAAAAAAAAAAAAAAAAAAAAAAAAAAAAAAAAAAAAAAAAAAAAAAAAAAAAAAAAAAAAAAAAAAAAAAAAAAAAAAAAAAAAAAAAAAAAAAAAAAAAAAAAAAAAAAAAAAAAAAAAAAAAAAAAAAAAAAAAAAAAAAAAAAAAAAAAAAAAAAAAAAAAAAAAAAAAAAAAAAAAAAAAAAAAAAAAAAAAAAAAAAAAAAAAAAAAAAAAAAAAAAAAAAAAAAAAAAAAAAAAAAAAAAAAAAAAAAAAAAAAAAAAAAAAAAAAAAAAAAAAAAAAAAAAAAAAAAAAAAAAAAAAAAAAAAAAAAAAAAAAAAAAAAAAAAAAAAAAAAAAAAAAAAAAAAAAAAAAAAAAAAAAAAAAAAAAAAAAAAAAAAAAAAAAAAAAAAAAAAAAAAAAAAAAAAAAAAAAAAAAAAAAAAAAAAAAAAAAAAAAAAAAAAAAAAAAAAAAAAAAAAAAAAAAAAAAAAAAAAAAAAAAAAAAAAAAAAAAAAAAAAAAAAAAAAAAAAAAAAAAAAAAAAAAAAAAAAAAAAAAAAAAAAAAAAAAAAAAAAAAAAAAAAAAAAAAAAAAAAAAAAAAAAAAAAAAAAAAAAAAAAAAAAAAAAAAAAAAAAAAAAAAAAAAAAAAAAAAAAAAAAAAAAAAAAAAAAAAAAAAAAAAAAAAAAAAAAAAAAAAAAAAAAAAAAAAAAAAAAAAAAAAAAAAAAAAAAAAAAAAAAAAAAAAAAAAAAAAAAAAAAAAAAAAAAAAAAAAAAAAAAAAAAAAAAAAAAAAAAAAAAAAAAAAAAAAAAAAAAAAAAAAAAAAAAAAAAAAAAAAAAAAAAAAAAAAAAAAAAAAAAAAAAAAAAAAAAAAAAAAAAAAAAAAAAAAAAAAAAAAAAAAAAAAAAAAAAAAAAAAAAAAAAAAAAAAAAAAAAAAAAAAAAAAAAAAAAAAAAAAAAAAAAAAAAAAAAAAAAAAAAAAAAAAAAAAAAAAAAAAAAAAAAAAAAAAAAAAAAAAAAAAAAAAAAAAAAAAAAAAAAAAAAAAAAAAAAAAAAAAAAAAAAAAAAAAAAAAAAAAAAAAAAAAAAAAAAAAAAAAAAAAAAAAAAAAAAAAAAAAAAAAAAAAAAAAAAAAAAAAAAAAAAAAAAAAAAAAAAAAAAAAAAAAAAAAAAAAAAAAAAAAAAAAAAAAAAAAAAAAAAAAAAAAAAAAAAAAAAAAAAAAAAAAAAAAAAAAAAAAAAAAAAAAAAAAAAAAAAAAAAAAAAAAAAAAAAAAAAAAAAAAAAAAAAAAAAAAAAAAAAAAAAAAAAAAAAAAAAAAAAAAAAAAAAAAAAAAAAAAAAAAAAAAAAAAAAAAAAAAAAAAAAAAAAAAAAAAAAAAAAAAAAAAAAAAAAAAAAAAAAAAAAAAAAAAAAAAAAAAAAAAAAAAAAAAAAAAAAAAAAAAAAAAAAAAAAAAAAAAAAAAAAAAAAAAAAAAAAAAAAAAAAAAAAAAAAAAAAAAAAAAAAAAAAAAAAAAAAAAAAAAAAAAAAAAAAAAAAAAAAAAAAAAAAAAAAAAAAAAAAAAAAAAAAAAAAAAAAAAAAAAAAAAAAAAAAAAAAAAAAAAAAAAAAAAAAAAAAAAAAAAAAAAAAAAAAAAAAAAAAAAAAAAAAAAAAAAAAAAAAAAAAAAAAAAAAAAAAAAAAAAAAAAAAAAAAAAAAAAAAAAAAAAAAAAAAAAAAAAAAAAAAAAAAAAAAAAAAAAAAAAAAAAAAAAAAAAAAAAAAAAAAAAAAAAAAAAAAAAAAAAAAAAAAAAAAAAAAAAAAAAAAAAAAAAAAAAAAAAAAAAAAAAAAAAAAAAAAAAAAAAAAAAAAAAAAAAAAAAAAAAAAAAAAAAAAAAAAAAAAAAAAAAAAAAAAAAAAAAAAAAAAAAAAAAAAAAAAAAAAAAAAAAAAAAAAAAAAAAAAAAAAAAAAAAAAAAAAAAAAAAAAAAAAAAAAAAAAAAAAAAAAAAAAAAAAAAAAAAAAAAAAAAAAAAAAAAAAAAAAAAAAAAAAAAAAAAAAAAAAAAAAAAAAAAAAAAAAAAAAAAAAAAAAAAAAAAAAAAAAAAAAAAAAAAAAAAAAAAAAAAAAAAAAAAAAAAAAAAAAAAAAAAAAAAAAAAAAAAAAAAAAAAAAAAAAAAAAAAAAAAAAAAAAAAAAAAAAAAAAAAAAAAAAAAAAAAAAAAAAAAAAAAAAAAAAAAAAAAAAAAAAAAAAAAAAAAAAAAAAAAAAAAAAAAAAAAAAAAAAAAAAAAAAAAAAAAAAAAAAAAAAAAAAAAAAAAAAAAAAAAAAAAAAAAAAAAAAAAAAAAAAAAAAAAAAAAAAAAAAAAAAAAAAAAAAAAAAAAAAAAAAAAAAAAAAAAAAAAAAAAAAAAAAAAAAAAAAAAAAAAAAAAAAAAAAAAAAAAAAAAAAAAAAAAAAAAAAAAAAAAAAAAAAAAAAAAAAAAAAAAAAAAAAAAAAAAAAAAAAAAAAAAAAAAAAAAAAAAAAAAAAAAAAAAAAAAAAAAAAAAAAAAAAAAAAAAAAAAAAAAAAAAAAAAAAAAAAAAAAAAAAAAAAAAAAAAAAAAAAAAAAAAAAAAAAAAAAAAAAAAAAAAAAAAAAAAAAAAAAAAAAAAAAAAAAAAAAAAAAAAAAAAAAAAAAAAAAAAAAAAAAAAAAAAAAAAAAAAAAAAAAAAAAAAAAAAAAAAAAAAAAAAAAAAAAAAAAAAAAAAAAAAAAAAAAAAAAAAAAAAAAAAAAAAAAAAAAAAAAAAAAAAAAAAAAAAAAAAAAAAAAAAAAAAAAAAAAAAAAAAAAAAAAAAAAAAAAAAAAAAAAAAAAAAAAAAAAAAAAAAAAAAAAAAAAAAAAAAAAAAAAAAAAAAAAAAAAAAAAAAAAAAAAAAAAAAAAAAAAAAAAAAAAAAAAAAAAAAAAAAAAAAAAAAAAAAAAAAAAAAAAAAAAAAAAAAAAAAAAAAAAAAAAAAAAAAAAAAAAAAAAAAAAAAAAAAAAAAAAAAAAAAAAAAAAAAAAAAAAAAAAAAAAAAAAAAAAAAAAAAAAAAAAAAAAAAAAAAAAAAAAAAAAAAAAAAAAAAAAAAAAAAAAAAAAAAAAAAAAAAAAAAAAAAAAAAAAAAAAAAAAAAAAAAAAAAAAAAAAAAAAAAAAAAAAAAAAAAAAAAAAAAAAAAAAAAAAAAAAAAAAAAAAAAAAAAAAAAAAAAAAAAAAAAAAAAAAAAAAAAAAAAAAAAAAAAAAAAAAAAAAAAAAAAAAAAAAAAAAAAAAAAAAAAAAAAAAAAAAAAAAAAAAAAAAAAAAAAAAAAAAAAAAAAAAAAAAAAAAAAAAAAAAAAAAAAAAAAAAAAAAAAAAAAAAAAAAAAAAAAAAAAAAAAAAAAAAAAAAAAAAAAAAAAAAAAAAAAAAAAAAAAAAAAAAAAAAAAAAAAAAAAAAAAAAAAAAAAAAAAAAAAAAAAAAAAAAAAAAAAAAAAAAAAAAAAAAAAAAAAAAAAAAAAAAAAAAAAAAAAAAAAAAAAAAAAAAAAAAAAAAAAAAAAAAAAAAAAAAAAAAAAAAAAAAAAAAAAAAAAAAAAAAAAAAAAAAAAAAAAAAAAAAAAAAAAAAAAAAAAAAAAAAAAAAAAAAAAAAAAAAAAAAAAAAAAAAAAAAAAAAAAAAAAAAAAAAAAAAAAAAAAAAAAAAAAAAAAAAAAAAAAAAAAAAAAAAAAAAAAAAAAAAAAAAAAAAAAAAAAAAAAAAAAAAAAAAAAAAAAAAAAAAAAAAAAAAAAAAAAAAAAAAAAAAAAAAAAAAAAAAAAAAAAAAAAAAAAAAAAAAAAAAAAAAAAAAAAAAAAAAAAAAAAAAAAAAAAAAAAAAAAAAAAAAAAAAAAAAAAAAAAAAAAAAAAAAAAAAAAAAAAAAAAAAAAAAAAAAAAAAAAAAAAAAAAAAAAAAAAAAAAAAAAAAAAAAAAAAAAAAAAAAAAAAAAAAAAAAAAAAAAAAAAAAAAAAAAAAAAAAAAAAAAAAAAAAAAAAAAAAAAAAAAAAAAAAAAAAAAAAAAAAAAAAAAAAAAAAAAAAAAAAAAAAAAAAAAAAAAAAAAAAAAAAAAAAAAAAAAAAAAAAAAAAAAAAAAAAAAAAAAAAAAAAAAAAAAAAAAAAAAAAAAAAAAAAAAAAAAAAAAAAAAAAAAAAAAAAAAAAAAAAAAAAAAAAAAAAAAAAAAAAAAAAAAAAAAAAAAAAAAAAAAAAAAAAAAAAAAAAAAAAAAAAAAAAAAAAAAAAAAAAAAAAAAAAAAAAAAAAAAAAAAAAAAAAAAAAAAAAAAAAAAAAAAAAAAAAAAAAAAAAAAAAAAAAAAAAAAAAAAAAAAAAAAAAAAAAAAAAAAAAAAAAAAAAAAAAAAAAAAAAAAAAAAAAAAAAAAAAAAAAAAAAAAAAAAAAAAAAAAAAAAAAAAAAAAAAAAAAAAAAAAAAAAAAAAAAAAAAAAAAAAAAAAAAAAAAAAAAAAAAAAAAAAAAAAAAAAAAAAAAAAAAAAAAAAAAAAAAAAAAAAAAAAAAAAAAAAAAAAAAAAAAAAAAAAAAAAAAAAAAAAAAAAAAAAAAAAAAAAAAAAAAAAAAAAAAAAAAAAAAAAAAAAAAAAAAAAAAAAAAAAAAAAAAAAAAAAAAAAAAAAAAAAAAAAAAAAAAAAAAAAAAAAAAAAAAAAAAAAAAAAAAAAAAAAAAAAAAAAAAAAAAAAAAAAAAAAAAAAAAAAAAAAAAAAAAAAAAAAAAAAAAAAAAAAAAAAAAAAAAAAAAAAAAAAAAAAAAAAAAAAAAAAAAAAAAAAAAAAAAAAAAAAAAAAAAAAAAAAAAAAAAAAAAAAAAAAAAAAAAAAAAAAAAAAAAAAAAAAAAAAAAAAAAAAAAAAAAAAAAAAAAAAAAAAAAAAAAAAAAAAAAAAAAAAAAAAAAAAAAAAAAAAAAAAAAAAAAAAAAAAAAAAAAAAAAAAAAAAAAAAAAAAAAAAAAAAAAAAAAAAAAAAAAAAAAAAAAAAAAAAAAAAAAAAAAAAAAAAAAAAAAAAAAAAAAAAAAAAAAAAAAAAAAAAAAAAAAAAAAAAAAAAAAAAAAAAAAAAAAAAAAAAAAAAAAAAAAAAAAAAAAAAAAAAAAAAAAAAAAAAAAAAAAAAAAAAAAAAAAAAAAAAAAAAAAAAAAAAAAAAAAAAAAAAAAAAAAAAAAAAAAAAAAAAAAAAAAAAAAAAAAAAAAAAAAAAAAAAAAAAAAAAAAAAAAJkAAAAAAAADwPwAAAAAAAPA/AAAAAAAAAAAAAAAAAAAAAAAAAAAAADNAAAAAAAAAAAAAAAAAAAAAAAAAAAAAAAAAAAAAAAAAAAAAAAAAAAAAAAAAAAAAAAAAAAAAAACAQEAAAAAAAAAAAAAAAAAAAAAAAAAAAAAAM0AAAAAAAAAAAAAAAAAAQFBAAAAAAACAS0AAAAAAAABFQAAAAAAAAAAAAAAAAAAASkAAAAAAAIBAQAAAAAAAAAAAAAAAAAAATEAAAAAAAAAUQAAAAAAAAEJAAAAAAAAAR0AAAAAAAIBAQAAAAAAAAExAAAAAAAAAAAAAAAAAAAA/QAAAAAAAgENAAAAAAAAAFEAAAAAAAEBQQAAAAAAAACxAAAAAAAAAEEAAAAAAAIBGQAAAAAAAgEVAAAAAAAAAPEAAAAAAAAAuQAAAAAAAADBAAAAAAACAQEAAAAAAAABFQAAAAAAAADNAAAAAAAAASUAAAAAAAIBKQAAAAAAAAAAAAAAAAACASEAAAAAAAAAYQAAAAAAAAAAAAAAAAACAUUAAAAAAAABPQAAAAAAAADlAAAAAAAAAQEAAAAAAAIBBQAAAAAAAACpAAAAAAAAAIkAAAAAAAAA+QAAAAAAAAFBAAAAAAAAATUAAAAAAAAAAAAAAAAAAAAhAAAAAAAAAUUAAAAAAAAAyQAAAAAAAgElAAAAAAAAAAAAAAAAAAABUQAAAAAAAwFNAAAAAAABAU0AAAAAAAIBSQAAAAAAAQFRAAAAAAABAU0AAAAAAAABUQAAAAAAAgFNAAAAAAADAUUAAAAAAAABTQAAAAAAAQFJAAAAAAABAUkAAAAAAAEBTQAAAAAAAwFJAAAAAAABAU0AAAAAAAMBTQAAAAAAAgFNAAAAAAAAAU0AAAAAAAIBSQAAAAAAAQFNAAAAAAACAUkAAAAAAAEBTQAAAAAAAADlAAAAAAAAAR0AAAAAAAAAAAAAAAAAAAE9AAAAAAABAU0AAAAAAAIBTQAAAAAAAwFJAAAAAAACAU0AAAAAAAIBSQAAAAAAAgFFAAAAAAADAUUAAAAAAAMBTQAAAAAAAAFNAAAAAAACAU0AAAAAAAIBTQAAAAAAAAFFAAAAAAABAUUAAAAAAAEBTQAAAAAAAwFNAAAAAAABAU0AAAAAAAABSQAAAAAAAAFJAAAAAAADAUkAAAAAAAABTQAAAAAAAwFJAAAAAAACAU0AAAAAAAAAAAAAAAAAAAFBAAAAAAAAAAAAAAAAAAABTQAAAAAAAwFNAAAAAAADAUkAAAAAAAABUQAAAAAAAAFNAAAAAAABAU0AAAAAAAEBTQAAAAAAAQFNAAAAAAADAU0AAAAAAAMBTQA==\",\"dtype\":\"float64\",\"order\":\"little\",\"shape\":[677]}},\"selected\":{\"id\":\"1896\"},\"selection_policy\":{\"id\":\"1895\"}},\"id\":\"1713\",\"type\":\"ColumnDataSource\"},{\"attributes\":{},\"id\":\"1689\",\"type\":\"LinearScale\"},{\"attributes\":{\"end\":102},\"id\":\"1685\",\"type\":\"Range1d\"},{\"attributes\":{},\"id\":\"1687\",\"type\":\"LinearScale\"},{\"attributes\":{\"below\":[{\"id\":\"1691\"}],\"center\":[{\"id\":\"1694\"},{\"id\":\"1698\"}],\"height\":200,\"js_event_callbacks\":{\"selectiongeometry\":[{\"id\":\"1714\"}]},\"left\":[{\"id\":\"1695\"}],\"renderers\":[{\"id\":\"1717\"},{\"id\":\"1719\"}],\"title\":{\"id\":\"1871\"},\"toolbar\":{\"id\":\"1706\"},\"width\":1000,\"x_range\":{\"id\":\"1683\"},\"x_scale\":{\"id\":\"1687\"},\"y_range\":{\"id\":\"1685\"},\"y_scale\":{\"id\":\"1689\"}},\"id\":\"1682\",\"subtype\":\"Figure\",\"type\":\"Plot\"},{\"attributes\":{},\"id\":\"1692\",\"type\":\"BasicTicker\"},{\"attributes\":{},\"id\":\"1703\",\"type\":\"SaveTool\"},{\"attributes\":{\"coordinates\":null,\"data_source\":{\"id\":\"1713\"},\"glyph\":{\"id\":\"1715\"},\"group\":null,\"hover_glyph\":null,\"view\":{\"id\":\"1718\"}},\"id\":\"1717\",\"type\":\"GlyphRenderer\"},{\"attributes\":{\"args\":{\"div\":{\"id\":\"1681\"},\"s1\":{\"id\":\"1713\"}},\"code\":\"\\n                            console.log('Running CustomJS callback now.');\\n                            var inds = s1.selected.indices;\\n                            console.log(inds);\\n                            var line = \\\"<span style=float:left;clear:left;font_size=13px><b> Selected index range: [\\\" + Math.min.apply(Math,inds) + \\\",\\\" + Math.max.apply(Math,inds) + \\\"]</b></span>\\\\n\\\";\\n                            console.log(line)\\n                            var text = div.text.concat(line);\\n                            var lines = text.split(\\\"\\\\n\\\")\\n                            if (lines.length > 35)\\n                                lines.shift();\\n                            div.text = lines.join(\\\"\\\\n\\\");\"},\"id\":\"1714\",\"type\":\"CustomJS\"},{\"attributes\":{\"height\":100,\"height_policy\":\"fixed\",\"width\":250},\"id\":\"1681\",\"type\":\"Div\"},{\"attributes\":{\"end\":1695578099.500957,\"start\":1695577762.501377},\"id\":\"1683\",\"type\":\"Range1d\"},{\"attributes\":{\"axis_label\":\"Time in ms\",\"coordinates\":null,\"formatter\":{\"id\":\"1881\"},\"group\":null,\"major_label_policy\":{\"id\":\"1882\"},\"ticker\":{\"id\":\"1692\"}},\"id\":\"1691\",\"type\":\"LinearAxis\"},{\"attributes\":{\"end\":102},\"id\":\"1725\",\"type\":\"Range1d\"},{\"attributes\":{},\"id\":\"1878\",\"type\":\"BasicTickFormatter\"},{\"attributes\":{\"axis_label\":\"GPUMemoryUtilization-nodeid:algo-1_total\",\"coordinates\":null,\"formatter\":{\"id\":\"1878\"},\"group\":null,\"major_label_policy\":{\"id\":\"1879\"},\"ticker\":{\"id\":\"1696\"}},\"id\":\"1695\",\"type\":\"LinearAxis\"},{\"attributes\":{\"axis\":{\"id\":\"1691\"},\"coordinates\":null,\"group\":null,\"ticker\":null,\"visible\":false},\"id\":\"1694\",\"type\":\"Grid\"},{\"attributes\":{},\"id\":\"1879\",\"type\":\"AllLabels\"},{\"attributes\":{\"axis\":{\"id\":\"1695\"},\"coordinates\":null,\"dimension\":1,\"group\":null,\"ticker\":null,\"visible\":false},\"id\":\"1698\",\"type\":\"Grid\"},{\"attributes\":{},\"id\":\"1696\",\"type\":\"BasicTicker\"},{\"attributes\":{\"tools\":[{\"id\":\"1699\"},{\"id\":\"1700\"},{\"id\":\"1701\"},{\"id\":\"1702\"},{\"id\":\"1703\"},{\"id\":\"1704\"},{\"id\":\"1721\"}]},\"id\":\"1706\",\"type\":\"Toolbar\"},{\"attributes\":{},\"id\":\"1701\",\"type\":\"PanTool\"},{\"attributes\":{\"dimensions\":\"width\",\"overlay\":{\"id\":\"1705\"}},\"id\":\"1700\",\"type\":\"BoxSelectTool\"},{\"attributes\":{},\"id\":\"1699\",\"type\":\"CrosshairTool\"},{\"attributes\":{},\"id\":\"1702\",\"type\":\"ResetTool\"},{\"attributes\":{\"dimensions\":\"width\"},\"id\":\"1704\",\"type\":\"WheelZoomTool\"},{\"attributes\":{\"bottom_units\":\"screen\",\"coordinates\":null,\"fill_alpha\":0.5,\"fill_color\":\"lightgrey\",\"group\":null,\"left_units\":\"screen\",\"level\":\"overlay\",\"line_alpha\":1.0,\"line_color\":\"black\",\"line_dash\":[4,4],\"line_width\":2,\"right_units\":\"screen\",\"syncable\":false,\"top_units\":\"screen\"},\"id\":\"1705\",\"type\":\"BoxAnnotation\"},{\"attributes\":{\"coordinates\":null,\"data_source\":{\"id\":\"1753\"},\"glyph\":{\"id\":\"1755\"},\"group\":null,\"hover_glyph\":null,\"view\":{\"id\":\"1758\"}},\"id\":\"1757\",\"type\":\"GlyphRenderer\"},{\"attributes\":{\"line_color\":\"blue\",\"x\":{\"field\":\"x\"},\"y\":{\"field\":\"y\"}},\"id\":\"1755\",\"type\":\"Line\"},{\"attributes\":{\"axis_label\":\"Time in ms\",\"coordinates\":null,\"formatter\":{\"id\":\"1887\"},\"group\":null,\"major_label_policy\":{\"id\":\"1888\"},\"ticker\":{\"id\":\"1732\"}},\"id\":\"1731\",\"type\":\"LinearAxis\"},{\"attributes\":{\"data\":{\"x\":{\"__ndarray__\":\"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\",\"dtype\":\"float64\",\"order\":\"little\",\"shape\":[676]},\"y\":{\"__ndarray__\":\"UrgeheuZUUAAAAAAAIhRQNejcD0Ki1RApHA9CtdXVkCuR+F6FDJWQGZmZmZmmlJApHA9CtfTUUDhehSuR4lTQOF6FK5H5VNAuB6F61FwVkAAAAAAADBWQEjhehSuV1dAj8L1KFx7WEBI4XoUrkNYQBWuR+F6xFZAH4XrUbheV0AAAAAAADxYQAAAAAAAYFhAXI/C9SiEVEAfhetRuFJTQK5H4XoUNlVA4XoUrkfZV0CuR+F6FB5YQOF6FK5HeVZAhOtRuB7FV0DNzMzMzDxYQIbrUbgegVhAhutRuB4VWEAAAAAAACBYQFK4HoXrOVhAzczMzMxMVUDrUbgehRtSQKRwPQrXS1BAzczMzMwET0AK16NwPQpOQML1KFyPQlNAFK5H4XogUUBmZmZmZk5RQK5H4XoUElJAKVyPwvWMUUCQwvUoXIdGQArXo3A9+jxAmZmZmZlpQUDsUbgehWNAQPYoXI/C1T9ArkfhehQeQEDhehSuR4E/QAvXo3A9ikJASOF6FK4vQUBmZmZmZh5CQK5H4XoUtkJAhetRuB4NQkA+CtejcE1AQML1KFyPAkNA9ihcj8K1QkB8FK5H4QpPQHI9CtejGEdAwvUoXI9qQkCPwvUoXOdDQD4K16NwnUNA1qNwPQofQUDsUbgehWtCQBSuR+F6hD9AwvUoXI96QEBcj8L1KFxAQHwUrkfhUkNAwvUoXI9yQkAAAAAAAJhDQK5H4XoU1kNA61G4HoULMUAUrkfhenQmQEjhehSuhzJACtejcD1qKkAzMzMzMxMtQBSuR+F6NC5AhetRuB4FLUBmZmZmZqYpQBWuR+F6tCpAmpmZmZmJMkCPwvUoXK9BQM3MzMzMnEJAXI/C9Sh0QkBI4XoUrmdHQNejcD0KT0NAFa5H4XpEM0DXo3A9ChctQEjhehSuJy9AzczMzMwsJkAehetRuN4jQIXrUbgeJSpAAQAAAADgLkB7FK5H4VotQML1KFyPYihA61G4HoXLIEAAAAAAAIAkQLgehetReCNA61G4HoUrJEDhehSuR+EjQEfhehSuJyxAhetRuB7lLUCkcD0K1+MfQD4K16Nw3SRA16NwPQoXHEBI4XoUroccQDMzMzMzcxlA9Shcj8I1FkCkcD0K1yMeQClcj8L1KBJAAAAAAABAGEAAAAAAAAAeQJDC9ShczxVAH4XrUbgeIUB6FK5H4XoMQI/C9ShcDyBAMzMzMzNzIEAzMzMzMzMSQBSuR+F6tCVA4noUrkfhH0DsUbgehQshQArXo3A9ChZAH4XrUbgeFECkcD0K1yMpQITrUbgeFTlA4XoUrkdBNkA+CtejcL00QBSuR+F6RDRA16NwPQpHOkCQwvUoXO83QLgehetRmC5A9ihcj8LFOEAehetRuN4zQGZmZmZmFjxAhetRuB7lO0CuR+F6FO4zQGZmZmZmxjNAPgrXo3AtM0AAAAAAANAwQEjhehSuNzNA9Shcj8LlNkB7FK5H4eo4QJDC9Shc3zlAhetRuB4VMEAAAAAAAPA8QBSuR+F6ZDZAKVyPwvU4MkAehetRuP43QML1KFyPoiZA7FG4HoXrC0DsUbgehWsWQI7C9ShcjwxASOF6FK5HGEAfhetRuB4gQB+F61G4HhpAzMzMzMyMGUC4HoXrUTgYQGdmZmZmZgRAzczMzMzsI0DsUbgehSscQAAAAAAAgAxACtejcD2KHUDhehSuR2EYQOF6FK5H4RVA1qNwPQrXF0AAAAAAAAAMQI/C9ShcDxhAkML1KFzPEUAAAAAAAMAVQPYoXI/CNR5AFK5H4XoUGEDD9Shcj8IfQAAAAAAAAB5APQrXo3B9FECkcD0K1+MRQB+F61G4nhpA7FG4HoXrFUDOzMzMzAwWQHsUrkfhuh5AHoXrUbheFkDD9ShcjwIUQLgehetRuBdAH4XrUbgeI0DrUbgehesRQK5H4XoUrhRAFK5H4XoUFkDrUbgehesZQML1KFyPwhlAKVyPwvWoDEDNzMzMzMwbQAAAAAAAACFAAAAAAAAACECkcD0K1yMiQB6F61G4HhpAAAAAAAAAEECkcD0K12MZQOJ6FK5HIRxAFK5H4XpUFECkcD0K14MrQArXo3A9ih1AKVyPwvWoEkAzMzMzMzMmQAAAAAAAsD5ApHA9CteDOkAfhetRuL5EQK5H4XoUbhBAmpmZmZmZH0DsUbgehesZQEjhehSuhxxA9Shcj8L1LUD2KFyPwmU4QNejcD0KpzRA4XoUrkdxNkCkcD0K12MwQM3MzMzMnDdA9ihcj8I1M0AfhetRuM45QEjhehSulzBAzMzMzMw8O0AzMzMzMyM7QIXrUbgedTdAXI/C9SisN0DhehSuRxE2QEfhehSuNzVA1qNwPQpXEkA9CtejcH0ZQGdmZmZmZhpAH4XrUbgeHkAehetRuN4TQOJ6FK5HgSNASOF6FK5HFEAAAAAAAAAQQFyPwvUoXBBAZmZmZmamH0AVrkfhelQUQPYoXI/C9RFAmpmZmZkZGkAzMzMzMzMUQArXo3A9ig9AzMzMzMxMFEDsUbgehXNCQD0K16NwZU9Ao3A9CtezTkAqXI/C9dBPQBSuR+F6tE9A4XoUrkd5TkAoXI/C9QhOQHsUrkfh6k5AuB6F61H4TkBH4XoUrjdOQJDC9Shc90tA61G4HoXrSUB8FK5H4cpKQJDC9Shcd0tAmpmZmZkJS0B7FK5H4TJKQNajcD0KL01AKVyPwvWgTUCG61G4Hj1PQLgehetRgE9AFK5H4Xo8UEAUrkfheuxQQK5H4XoUzk9AkML1KFwvTkBcj8L1KGBQQKNwPQrXq1BASOF6FK53UECuR+F6FG5QQAAAAAAAPFJAhutRuB5NUkCkcD0K19tSQFK4HoXrsVJAwvUoXI9OUkDsUbgehXNSQClcj8L18FJAPQrXo3BtUkAzMzMzM7dSQArXo3A91lFA9ihcj8JNUkCamZmZmZVSQD4K16NwsVJAMzMzMzNzUkAK16NwPeJSQHE9CtejYFJAmpmZmZnBUkAAAAAAAARSQHE9CtejpFJAmpmZmZnFUkBwPQrXo6xRQNijcD0Kg1FAexSuR+GqUUC4HoXrUUBSQBSuR+F6SFFAzczMzMzYUEDD9Shcj45QQAAAAAAA+E5APQrXo3BhUEC4HoXrUUxRQIbrUbgeUVBACtejcD3qT0D2KFyPwh1QQFK4HoXrnVJAMjMzMzOzUUAAAAAAAABSQGZmZmZmalFAMzMzMzO3UUDsUbgehYNSQJqZmZmZzVJAw/UoXI9aUkDsUbgehadSQArXo3A93lJAH4XrUbi+UkA+CtejcNFSQD4K16NwSVJAMzMzMzMfUkCamZmZma1SQJDC9ShcX1FAUrgehevxUUAzMzMzMxNSQI/C9ShcZ1FAUrgehev1UUDrUbgehdtUQFK4HoXr7VVAFK5H4Xp0VEAVrkfhevBUQChcj8L18FRAAAAAAABwUkAfhetRuKZSQFK4HoXroVJAmpmZmZmNUkBxPQrXo3hSQLgehetRkFJA1qNwPQqHUkDWo3A9CqdSQB+F61G4nlBAZmZmZmZeUkBI4XoUrrtSQHsUrkfhBlJAw/UoXI/CUkAfhetRuEJTQDMzMzMzb1JAKVyPwvVIQUApXI/C9chNQD4K16NwoVJA7FG4HoWTU0D2KFyPwhVVQFK4HoXrpVJAFa5H4Xq4UkDMzMzMzFBSQHsUrkfhplJAMzMzMzPXUkCPwvUoXEtQQFK4HoXrEVFAcT0K16MsUUCF61G4Hg1EQK5H4XoUjkpAhutRuB4tT0CPwvUoXE9OQArXo3A9yk5AcD0K16N4T0CF61G4HqFQQKRwPQrXF1BAAAAAAAAMUUBSuB6F6yVRQBSuR+F65FBArkfhehTuUEAfhetRuEpRQGdmZmZm7lFAmZmZmZmFUUCkcD0K18tPQHsUrkfh8lBAcT0K16M8UEAzMzMzM7dQQD4K16Nw3VFAXI/C9SjIUkBcj8L1KERSQOJ6FK5HfVJACtejcD0uUkDMzMzMzEBSQIXrUbgeLU5AexSuR+EqMkB7FK5H4bpPQChcj8L1eE9AehSuR+H6UEBmZmZmZqJQQDMzMzMzj1BACtejcD2uUECPwvUoXC9RQD0K16Nw1VBAMzMzMzPrUECamZmZmYVRQI/C9ShcU1BA9ihcj8LFT0C4HoXrUaRSQBSuR+F6EFJAzMzMzMyYUUC4HoXrUSgzQK5H4XoU5k1AXI/C9SjoUkBxPQrXo7RRQOF6FK5HEVJA9ihcj8L1QkCamZmZmWk+QArXo3A9wk1APgrXo3AtUEAehetRuK5NQBWuR+F6/E9AUrgehevBT0CkcD0K14tQQMP1KFyP8lBAcT0K16OQT0DC9Shcj65QQBSuR+F6YFBAhetRuB6BUECF61G4HolQQJqZmZmZyVFAexSuR+EKUUBI4XoUrudOQAAAAAAAlFFAuB6F61HoUkCkcD0K10tTQOtRuB6F71JAZmZmZmaWUkCF61G4HvlSQHA9CtejuFJA9ihcj8LBUkApXI/C9YhSQD0K16NwlVJA4XoUrkeNUEApXI/C9RhPQIXrUbgeDVFAwvUoXI/WUEBRuB6F62lPQArXo3A9VlFAXI/C9Sh4UUC4HoXrUQRRQAAAAAAAAEpAFK5H4XosUEBcj8L1KCBRQArXo3A94lBAuB6F61EQUkBcj8L1KIRRQOF6FK5H7VRArkfhehQmVECF61G4HkFSQEfhehSue1VAFK5H4XooVUCPwvUoXItTQPYoXI/CQVNAH4XrUbgOU0C4HoXrUShDQArXo3A9gk5AkML1KFznS0DXo3A9CidQQPUoXI/CNVFArkfhehQuUEAzMzMzM3tOQAAAAAAAaEhA7FG4HoVbTEABAAAAAEBMQCpcj8L1EExACtejcD1KTUBSuB6F60lOQF2PwvUorE9AmZmZmZmVUUCamZmZmaFNQOB6FK5HyUdAXI/C9Sg8NkCkcD0K10MyQFK4HoXrMTFAXY/C9SicM0AUrkfhetQyQPYoXI/CJTRAKVyPwvVoLkBwPQrXo0A+QClcj8L12DdAcD0K16PwN0BI4XoUrgc3QClcj8L1SDBAKVyPwvVYMkD1KFyPwuU6QDMzMzMzcyxA9ihcj8LVKUAAAAAAAKAkQLkehetRWDFAHoXrUbiONkBxPQrXo2A1QArXo3A9ejVAKVyPwvUoOUBI4XoUrpc6QK5H4XoU7jlAuB6F61H4N0CF61G4HtU5QAAAAAAAgDpAAAAAAAAAOUCG61G4HoU6QJDC9ShcXz1AHoXrUbg+PUC4HoXrUfg5QM3MzMzMjDtAwvUoXI8SPUDD9ShcjwI5QJqZmZmZyTpAC9ejcD0KOUD2KFyPwvU6QAAAAAAAoDlAAAAAAACAOUB7FK5H4Xo6QFK4HoXrMTtAUrgehesxOkAoXI/C9bg4QPYoXI/CdTpAAAAAAACAOUDC9Shcj5I6QJDC9ShcnzlASOF6FK6HOkDsUbgehcs6QHA9CtejuEhAZmZmZmauQkAAAAAAAAA5QML1KFyPAjpA9ihcj8J1P0CQwvUoXB9GQAAAAAAAADpArkfhehTON0AAAAAAAIA6QLgehetR+DpAw/UoXI8CO0AAAAAAAAA7QNejcD0KdzZAexSuR+GqMkBcj8L1KMwwQAAAAAAAYDtAzczMzMxcO0AAAAAAAAA5QMP1KFyPgjpAexSuR+F6OkDXo3A9CrdCQAAAAAAAeEVAcT0K16NAREAK16NwPWo8QDMzMzMz8zxAzczMzMyMO0B7FK5H4Yo7QAAAAAAAgDlAMzMzMzOTPECZmZmZmX1VQK5H4XoUHlhAAAAAAADAWEB7FK5H4V5UQPYoXI/CZURAcT0K16PQVkBI4XoUriNUQAAAAAAAAFlAAAAAAAAAWUAAAAAAAABZQAAAAAAAAFlArUfhehSeWECF61G4Ht1UQFG4HoXrsVZAAAAAAADwUkBwPQrXo+hIQArXo3A9WkpA9ihcj8KJUUBxPQrXo2BQQOxRuB6Fa1NA61G4HoXvVEDrUbgehddQQHE9CtejgFhA4XoUrkehWECPwvUoXN9YQHE9Ctej4FhAXI/C9SjEWEC4HoXrUXRYQI/C9Shc31hAAAAAAAAAWUDiehSuR4FYQOJ6FK5HxVhAFK5H4XrcWEDiehSuR8FYQAAAAAAAAFlAcT0K16PgWEBxPQrXo8BYQB+F61G4nlhAAAAAAADAWEBSuB6F68FYQOF6FK5H4VhAAAAAAADAWEAAAAAAAABZQOJ6FK5HwVhArkfhehSeWEBnZmZmZopYQDMzMzMzu1hAAAAAAADAWEBxPQrXo0BYQHE9Ctej4FhAexSuR+EaWEBxPQrXo+BYQAAAAAAAwFhAUrgehevBWEDsUbgehcNYQB+F61G43lhAH4XrUbjeWEBxPQrXo8BYQFK4HoXrpVhAAAAAAAAAWUAAAAAAAMBYQAAAAAAAAFlAAAAAAADgWEBxPQrXo+BYQML1KFyPwlhAZmZmZmbCWEBxPQrXo3RXQAAAAAAAkEpAZmZmZmbCVUA0MzMzMzNRQFyPwvUoYFNArkfhehT2VkAK16NwPYpQQB+F61G4Jk1AKVyPwvVYTEBnZmZmZi5NQHE9Ctej6ExAUrgeheuZTEC4HoXrUQBNQOB6FK5H0U1AMzMzMzMLTECuR+F6FOZMQB6F61G4Tk5AKFyPwvXwS0DhehSuR3lMQJqZmZmZSUxANDMzMzOjTEA+CtejcPVMQFK4HoXrmUxAwvUoXI/iTUAehetRuLZMQEjhehSux0xACtejcD2aPkBRuB6F67lJQMP1KFyPolhAcD0K16PUUEAfhetRuDZUQGZmZmZmxktAzczMzMyETkCPwvUoXNdNQLkehetREE1AzczMzMzsTECamZmZmRlMQNejcD0KJ01AXI/C9SiETkAUrkfherxMQI/C9ShcH01AcT0K16OQS0ApXI/C9bBNQI/C9ShcN05AKVyPwvUATUA0MzMzM6NNQNejcD0Kt0xAZmZmZmbGTEAehetRuLZMQHA9CtejQExArkfhehQ+S0BH4XoUrmdIQNejcD0KtztAAAAAAACwUkDXo3A9Ck9UQOxRuB6Fl1RA4XoUrkcNUUBI4XoUrgdNQEjhehSuh01ACtejcD2KTECQwvUoXGdMQJqZmZmZqU1AUrgehesBTED2KFyPwvVLQOF6FK5HOUxAuB6F61FQTEA=\",\"dtype\":\"float64\",\"order\":\"little\",\"shape\":[676]}},\"selected\":{\"id\":\"1899\"},\"selection_policy\":{\"id\":\"1898\"}},\"id\":\"1753\",\"type\":\"ColumnDataSource\"},{\"attributes\":{},\"id\":\"1884\",\"type\":\"BasicTickFormatter\"},{\"attributes\":{},\"id\":\"1885\",\"type\":\"AllLabels\"},{\"attributes\":{\"fill_alpha\":{\"value\":0},\"line_width\":{\"value\":0},\"x\":{\"field\":\"x\"},\"y\":{\"field\":\"y\"}},\"id\":\"1716\",\"type\":\"Circle\"},{\"attributes\":{\"source\":{\"id\":\"1713\"}},\"id\":\"1718\",\"type\":\"CDSView\"},{\"attributes\":{},\"id\":\"1887\",\"type\":\"BasicTickFormatter\"},{\"attributes\":{},\"id\":\"1888\",\"type\":\"AllLabels\"},{\"attributes\":{\"line_color\":\"blue\",\"x\":{\"field\":\"x\"},\"y\":{\"field\":\"y\"}},\"id\":\"1715\",\"type\":\"Line\"},{\"attributes\":{\"callback\":null,\"renderers\":[{\"id\":\"1719\"}],\"tooltips\":[[\"index\",\"$index\"],[\"(x,y)\",\"($x, $y)\"]]},\"id\":\"1721\",\"type\":\"HoverTool\"},{\"attributes\":{\"coordinates\":null,\"data_source\":{\"id\":\"1713\"},\"glyph\":{\"id\":\"1716\"},\"group\":null,\"hover_glyph\":null,\"view\":{\"id\":\"1720\"}},\"id\":\"1719\",\"type\":\"GlyphRenderer\"},{\"attributes\":{\"source\":{\"id\":\"1713\"}},\"id\":\"1720\",\"type\":\"CDSView\"},{\"attributes\":{},\"id\":\"1727\",\"type\":\"LinearScale\"},{\"attributes\":{\"below\":[{\"id\":\"1731\"}],\"center\":[{\"id\":\"1734\"},{\"id\":\"1738\"}],\"height\":200,\"js_event_callbacks\":{\"selectiongeometry\":[{\"id\":\"1754\"}]},\"left\":[{\"id\":\"1735\"}],\"renderers\":[{\"id\":\"1757\"},{\"id\":\"1759\"}],\"title\":{\"id\":\"1873\"},\"toolbar\":{\"id\":\"1746\"},\"width\":1000,\"x_range\":{\"id\":\"1683\"},\"x_scale\":{\"id\":\"1727\"},\"y_range\":{\"id\":\"1725\"},\"y_scale\":{\"id\":\"1729\"}},\"id\":\"1723\",\"subtype\":\"Figure\",\"type\":\"Plot\"},{\"attributes\":{\"args\":{\"div\":{\"id\":\"1681\"},\"s1\":{\"id\":\"1753\"}},\"code\":\"\\n                            console.log('Running CustomJS callback now.');\\n                            var inds = s1.selected.indices;\\n                            console.log(inds);\\n                            var line = \\\"<span style=float:left;clear:left;font_size=13px><b> Selected index range: [\\\" + Math.min.apply(Math,inds) + \\\",\\\" + Math.max.apply(Math,inds) + \\\"]</b></span>\\\\n\\\";\\n                            console.log(line)\\n                            var text = div.text.concat(line);\\n                            var lines = text.split(\\\"\\\\n\\\")\\n                            if (lines.length > 35)\\n                                lines.shift();\\n                            div.text = lines.join(\\\"\\\\n\\\");\"},\"id\":\"1754\",\"type\":\"CustomJS\"},{\"attributes\":{\"axis\":{\"id\":\"1731\"},\"coordinates\":null,\"group\":null,\"ticker\":null,\"visible\":false},\"id\":\"1734\",\"type\":\"Grid\"},{\"attributes\":{},\"id\":\"1729\",\"type\":\"LinearScale\"},{\"attributes\":{\"source\":{\"id\":\"1753\"}},\"id\":\"1758\",\"type\":\"CDSView\"},{\"attributes\":{},\"id\":\"1732\",\"type\":\"BasicTicker\"}],\"root_ids\":[\"1804\"]},\"title\":\"Bokeh Application\",\"version\":\"2.4.2\"}};\n  const render_items = [{\"docid\":\"6553023d-f56f-478b-8e9e-9b1373cad61a\",\"notebook_comms_target\":\"1904\",\"root_ids\":[\"1804\"],\"roots\":{\"1804\":\"b6422f69-d831-4cbe-a6e4-5f09b62c1eb9\"}}];\n  root.Bokeh.embed.embed_items_notebook(docs_json, render_items);\n\n  }\n  if (root.Bokeh !== undefined) {\n    embed_document(root);\n  } else {\n    let attempts = 0;\n    const timer = setInterval(function(root) {\n      if (root.Bokeh !== undefined) {\n        clearInterval(timer);\n        embed_document(root);\n      } else {\n        attempts++;\n        if (attempts > 100) {\n          clearInterval(timer);\n          console.log(\"Bokeh: ERROR: Unable to run BokehJS code because BokehJS library is missing\");\n        }\n      }\n    }, 10, root)\n  }\n})(window);",
      "application/vnd.bokehjs_exec.v0+json": ""
     },
     "metadata": {
      "application/vnd.bokehjs_exec.v0+json": {
       "id": "1804"
      }
     },
     "output_type": "display_data"
    },
    {
     "name": "stdout",
     "output_type": "stream",
     "text": [
      "You will find the profiler report in s3://sagemaker-us-east-1-046017406246/project-3-cola/script-mode-cola-2023-09-24-17-48-04-920/rule-output\n"
     ]
    }
   ],
   "source": [
    "tj = TrainingJob(training_job_name, region)\n",
    "tj.wait_for_sys_profiling_data_to_be_available()\n",
    "\n",
    "system_metrics_reader = tj.get_systems_metrics_reader()\n",
    "system_metrics_reader.refresh_event_file_list()\n",
    "\n",
    "view_timeline_charts = TimelineCharts(\n",
    "    system_metrics_reader,\n",
    "    framework_metrics_reader=None,\n",
    "    select_dimensions=[\"CPU\", \"GPU\"],\n",
    "    select_events=[\"total\"],\n",
    ")\n",
    "\n",
    "rule_output_path = os.path.join(estimator.output_path, estimator.latest_training_job.job_name, \"rule-output\")\n",
    "print(f\"You will find the profiler report in {rule_output_path}\")"
   ]
  },
  {
   "cell_type": "code",
   "execution_count": 55,
   "id": "921c260f-8458-4fb4-9b5c-a19fc391207a",
   "metadata": {
    "tags": []
   },
   "outputs": [
    {
     "name": "stdout",
     "output_type": "stream",
     "text": [
      "2023-09-24 17:55:30     382157 project-3-cola/script-mode-cola-2023-09-24-17-48-04-920/rule-output/ProfilerReport/profiler-output/profiler-report.html\n",
      "2023-09-24 17:55:29     231108 project-3-cola/script-mode-cola-2023-09-24-17-48-04-920/rule-output/ProfilerReport/profiler-output/profiler-report.ipynb\n",
      "2023-09-24 17:55:24        191 project-3-cola/script-mode-cola-2023-09-24-17-48-04-920/rule-output/ProfilerReport/profiler-output/profiler-reports/BatchSize.json\n",
      "2023-09-24 17:55:24       5138 project-3-cola/script-mode-cola-2023-09-24-17-48-04-920/rule-output/ProfilerReport/profiler-output/profiler-reports/CPUBottleneck.json\n",
      "2023-09-24 17:55:24       2114 project-3-cola/script-mode-cola-2023-09-24-17-48-04-920/rule-output/ProfilerReport/profiler-output/profiler-reports/Dataloader.json\n",
      "2023-09-24 17:55:24        129 project-3-cola/script-mode-cola-2023-09-24-17-48-04-920/rule-output/ProfilerReport/profiler-output/profiler-reports/GPUMemoryIncrease.json\n",
      "2023-09-24 17:55:24       1411 project-3-cola/script-mode-cola-2023-09-24-17-48-04-920/rule-output/ProfilerReport/profiler-output/profiler-reports/IOBottleneck.json\n",
      "2023-09-24 17:55:24        307 project-3-cola/script-mode-cola-2023-09-24-17-48-04-920/rule-output/ProfilerReport/profiler-output/profiler-reports/LoadBalancing.json\n",
      "2023-09-24 17:55:24        153 project-3-cola/script-mode-cola-2023-09-24-17-48-04-920/rule-output/ProfilerReport/profiler-output/profiler-reports/LowGPUUtilization.json\n",
      "2023-09-24 17:55:24        232 project-3-cola/script-mode-cola-2023-09-24-17-48-04-920/rule-output/ProfilerReport/profiler-output/profiler-reports/MaxInitializationTime.json\n",
      "2023-09-24 17:55:25       1037 project-3-cola/script-mode-cola-2023-09-24-17-48-04-920/rule-output/ProfilerReport/profiler-output/profiler-reports/OverallFrameworkMetrics.json\n",
      "2023-09-24 17:55:25        622 project-3-cola/script-mode-cola-2023-09-24-17-48-04-920/rule-output/ProfilerReport/profiler-output/profiler-reports/OverallSystemUsage.json\n",
      "2023-09-24 17:55:25       2609 project-3-cola/script-mode-cola-2023-09-24-17-48-04-920/rule-output/ProfilerReport/profiler-output/profiler-reports/StepOutlier.json\n"
     ]
    }
   ],
   "source": [
    "! aws s3 ls {rule_output_path} --recursive"
   ]
  },
  {
   "cell_type": "code",
   "execution_count": 56,
   "id": "7cf29417-6330-450c-bc85-cc497feb3a97",
   "metadata": {
    "tags": []
   },
   "outputs": [
    {
     "name": "stdout",
     "output_type": "stream",
     "text": [
      "download: s3://sagemaker-us-east-1-046017406246/project-3-cola/script-mode-cola-2023-09-24-17-48-04-920/rule-output/ProfilerReport/profiler-output/profiler-reports/CPUBottleneck.json to ProfilerReport/profiler-output/profiler-reports/CPUBottleneck.json\n",
      "download: s3://sagemaker-us-east-1-046017406246/project-3-cola/script-mode-cola-2023-09-24-17-48-04-920/rule-output/ProfilerReport/profiler-output/profiler-reports/GPUMemoryIncrease.json to ProfilerReport/profiler-output/profiler-reports/GPUMemoryIncrease.json\n",
      "download: s3://sagemaker-us-east-1-046017406246/project-3-cola/script-mode-cola-2023-09-24-17-48-04-920/rule-output/ProfilerReport/profiler-output/profiler-reports/BatchSize.json to ProfilerReport/profiler-output/profiler-reports/BatchSize.json\n",
      "download: s3://sagemaker-us-east-1-046017406246/project-3-cola/script-mode-cola-2023-09-24-17-48-04-920/rule-output/ProfilerReport/profiler-output/profiler-reports/LowGPUUtilization.json to ProfilerReport/profiler-output/profiler-reports/LowGPUUtilization.json\n",
      "download: s3://sagemaker-us-east-1-046017406246/project-3-cola/script-mode-cola-2023-09-24-17-48-04-920/rule-output/ProfilerReport/profiler-output/profiler-report.ipynb to ProfilerReport/profiler-output/profiler-report.ipynb\n",
      "download: s3://sagemaker-us-east-1-046017406246/project-3-cola/script-mode-cola-2023-09-24-17-48-04-920/rule-output/ProfilerReport/profiler-output/profiler-reports/Dataloader.json to ProfilerReport/profiler-output/profiler-reports/Dataloader.json\n",
      "download: s3://sagemaker-us-east-1-046017406246/project-3-cola/script-mode-cola-2023-09-24-17-48-04-920/rule-output/ProfilerReport/profiler-output/profiler-reports/MaxInitializationTime.json to ProfilerReport/profiler-output/profiler-reports/MaxInitializationTime.json\n",
      "download: s3://sagemaker-us-east-1-046017406246/project-3-cola/script-mode-cola-2023-09-24-17-48-04-920/rule-output/ProfilerReport/profiler-output/profiler-reports/LoadBalancing.json to ProfilerReport/profiler-output/profiler-reports/LoadBalancing.json\n",
      "download: s3://sagemaker-us-east-1-046017406246/project-3-cola/script-mode-cola-2023-09-24-17-48-04-920/rule-output/ProfilerReport/profiler-output/profiler-report.html to ProfilerReport/profiler-output/profiler-report.html\n",
      "download: s3://sagemaker-us-east-1-046017406246/project-3-cola/script-mode-cola-2023-09-24-17-48-04-920/rule-output/ProfilerReport/profiler-output/profiler-reports/IOBottleneck.json to ProfilerReport/profiler-output/profiler-reports/IOBottleneck.json\n",
      "download: s3://sagemaker-us-east-1-046017406246/project-3-cola/script-mode-cola-2023-09-24-17-48-04-920/rule-output/ProfilerReport/profiler-output/profiler-reports/OverallSystemUsage.json to ProfilerReport/profiler-output/profiler-reports/OverallSystemUsage.json\n",
      "download: s3://sagemaker-us-east-1-046017406246/project-3-cola/script-mode-cola-2023-09-24-17-48-04-920/rule-output/ProfilerReport/profiler-output/profiler-reports/OverallFrameworkMetrics.json to ProfilerReport/profiler-output/profiler-reports/OverallFrameworkMetrics.json\n",
      "download: s3://sagemaker-us-east-1-046017406246/project-3-cola/script-mode-cola-2023-09-24-17-48-04-920/rule-output/ProfilerReport/profiler-output/profiler-reports/StepOutlier.json to ProfilerReport/profiler-output/profiler-reports/StepOutlier.json\n"
     ]
    }
   ],
   "source": [
    "! aws s3 cp {rule_output_path} ./ --recursive"
   ]
  },
  {
   "cell_type": "code",
   "execution_count": 57,
   "id": "7332870b-cc51-4476-a96d-5245285e19dd",
   "metadata": {
    "tags": []
   },
   "outputs": [],
   "source": [
    "# get the autogenerated folder name of profiler report\n",
    "profiler_report_name = [\n",
    "    rule[\"RuleConfigurationName\"]\n",
    "    for rule in estimator.latest_training_job.rule_job_summary()\n",
    "    if \"Profiler\" in rule[\"RuleConfigurationName\"]\n",
    "][0]\n",
    "\n",
    "# IPython.display.HTML(filename=profiler_report_name + \"/profiler-output/profiler-report.html\")"
   ]
  }
 ],
 "metadata": {
  "availableInstances": [
   {
    "_defaultOrder": 0,
    "_isFastLaunch": true,
    "category": "General purpose",
    "gpuNum": 0,
    "hideHardwareSpecs": false,
    "memoryGiB": 4,
    "name": "ml.t3.medium",
    "vcpuNum": 2
   },
   {
    "_defaultOrder": 1,
    "_isFastLaunch": false,
    "category": "General purpose",
    "gpuNum": 0,
    "hideHardwareSpecs": false,
    "memoryGiB": 8,
    "name": "ml.t3.large",
    "vcpuNum": 2
   },
   {
    "_defaultOrder": 2,
    "_isFastLaunch": false,
    "category": "General purpose",
    "gpuNum": 0,
    "hideHardwareSpecs": false,
    "memoryGiB": 16,
    "name": "ml.t3.xlarge",
    "vcpuNum": 4
   },
   {
    "_defaultOrder": 3,
    "_isFastLaunch": false,
    "category": "General purpose",
    "gpuNum": 0,
    "hideHardwareSpecs": false,
    "memoryGiB": 32,
    "name": "ml.t3.2xlarge",
    "vcpuNum": 8
   },
   {
    "_defaultOrder": 4,
    "_isFastLaunch": true,
    "category": "General purpose",
    "gpuNum": 0,
    "hideHardwareSpecs": false,
    "memoryGiB": 8,
    "name": "ml.m5.large",
    "vcpuNum": 2
   },
   {
    "_defaultOrder": 5,
    "_isFastLaunch": false,
    "category": "General purpose",
    "gpuNum": 0,
    "hideHardwareSpecs": false,
    "memoryGiB": 16,
    "name": "ml.m5.xlarge",
    "vcpuNum": 4
   },
   {
    "_defaultOrder": 6,
    "_isFastLaunch": false,
    "category": "General purpose",
    "gpuNum": 0,
    "hideHardwareSpecs": false,
    "memoryGiB": 32,
    "name": "ml.m5.2xlarge",
    "vcpuNum": 8
   },
   {
    "_defaultOrder": 7,
    "_isFastLaunch": false,
    "category": "General purpose",
    "gpuNum": 0,
    "hideHardwareSpecs": false,
    "memoryGiB": 64,
    "name": "ml.m5.4xlarge",
    "vcpuNum": 16
   },
   {
    "_defaultOrder": 8,
    "_isFastLaunch": false,
    "category": "General purpose",
    "gpuNum": 0,
    "hideHardwareSpecs": false,
    "memoryGiB": 128,
    "name": "ml.m5.8xlarge",
    "vcpuNum": 32
   },
   {
    "_defaultOrder": 9,
    "_isFastLaunch": false,
    "category": "General purpose",
    "gpuNum": 0,
    "hideHardwareSpecs": false,
    "memoryGiB": 192,
    "name": "ml.m5.12xlarge",
    "vcpuNum": 48
   },
   {
    "_defaultOrder": 10,
    "_isFastLaunch": false,
    "category": "General purpose",
    "gpuNum": 0,
    "hideHardwareSpecs": false,
    "memoryGiB": 256,
    "name": "ml.m5.16xlarge",
    "vcpuNum": 64
   },
   {
    "_defaultOrder": 11,
    "_isFastLaunch": false,
    "category": "General purpose",
    "gpuNum": 0,
    "hideHardwareSpecs": false,
    "memoryGiB": 384,
    "name": "ml.m5.24xlarge",
    "vcpuNum": 96
   },
   {
    "_defaultOrder": 12,
    "_isFastLaunch": false,
    "category": "General purpose",
    "gpuNum": 0,
    "hideHardwareSpecs": false,
    "memoryGiB": 8,
    "name": "ml.m5d.large",
    "vcpuNum": 2
   },
   {
    "_defaultOrder": 13,
    "_isFastLaunch": false,
    "category": "General purpose",
    "gpuNum": 0,
    "hideHardwareSpecs": false,
    "memoryGiB": 16,
    "name": "ml.m5d.xlarge",
    "vcpuNum": 4
   },
   {
    "_defaultOrder": 14,
    "_isFastLaunch": false,
    "category": "General purpose",
    "gpuNum": 0,
    "hideHardwareSpecs": false,
    "memoryGiB": 32,
    "name": "ml.m5d.2xlarge",
    "vcpuNum": 8
   },
   {
    "_defaultOrder": 15,
    "_isFastLaunch": false,
    "category": "General purpose",
    "gpuNum": 0,
    "hideHardwareSpecs": false,
    "memoryGiB": 64,
    "name": "ml.m5d.4xlarge",
    "vcpuNum": 16
   },
   {
    "_defaultOrder": 16,
    "_isFastLaunch": false,
    "category": "General purpose",
    "gpuNum": 0,
    "hideHardwareSpecs": false,
    "memoryGiB": 128,
    "name": "ml.m5d.8xlarge",
    "vcpuNum": 32
   },
   {
    "_defaultOrder": 17,
    "_isFastLaunch": false,
    "category": "General purpose",
    "gpuNum": 0,
    "hideHardwareSpecs": false,
    "memoryGiB": 192,
    "name": "ml.m5d.12xlarge",
    "vcpuNum": 48
   },
   {
    "_defaultOrder": 18,
    "_isFastLaunch": false,
    "category": "General purpose",
    "gpuNum": 0,
    "hideHardwareSpecs": false,
    "memoryGiB": 256,
    "name": "ml.m5d.16xlarge",
    "vcpuNum": 64
   },
   {
    "_defaultOrder": 19,
    "_isFastLaunch": false,
    "category": "General purpose",
    "gpuNum": 0,
    "hideHardwareSpecs": false,
    "memoryGiB": 384,
    "name": "ml.m5d.24xlarge",
    "vcpuNum": 96
   },
   {
    "_defaultOrder": 20,
    "_isFastLaunch": false,
    "category": "General purpose",
    "gpuNum": 0,
    "hideHardwareSpecs": true,
    "memoryGiB": 0,
    "name": "ml.geospatial.interactive",
    "supportedImageNames": [
     "sagemaker-geospatial-v1-0"
    ],
    "vcpuNum": 0
   },
   {
    "_defaultOrder": 21,
    "_isFastLaunch": true,
    "category": "Compute optimized",
    "gpuNum": 0,
    "hideHardwareSpecs": false,
    "memoryGiB": 4,
    "name": "ml.c5.large",
    "vcpuNum": 2
   },
   {
    "_defaultOrder": 22,
    "_isFastLaunch": false,
    "category": "Compute optimized",
    "gpuNum": 0,
    "hideHardwareSpecs": false,
    "memoryGiB": 8,
    "name": "ml.c5.xlarge",
    "vcpuNum": 4
   },
   {
    "_defaultOrder": 23,
    "_isFastLaunch": false,
    "category": "Compute optimized",
    "gpuNum": 0,
    "hideHardwareSpecs": false,
    "memoryGiB": 16,
    "name": "ml.c5.2xlarge",
    "vcpuNum": 8
   },
   {
    "_defaultOrder": 24,
    "_isFastLaunch": false,
    "category": "Compute optimized",
    "gpuNum": 0,
    "hideHardwareSpecs": false,
    "memoryGiB": 32,
    "name": "ml.c5.4xlarge",
    "vcpuNum": 16
   },
   {
    "_defaultOrder": 25,
    "_isFastLaunch": false,
    "category": "Compute optimized",
    "gpuNum": 0,
    "hideHardwareSpecs": false,
    "memoryGiB": 72,
    "name": "ml.c5.9xlarge",
    "vcpuNum": 36
   },
   {
    "_defaultOrder": 26,
    "_isFastLaunch": false,
    "category": "Compute optimized",
    "gpuNum": 0,
    "hideHardwareSpecs": false,
    "memoryGiB": 96,
    "name": "ml.c5.12xlarge",
    "vcpuNum": 48
   },
   {
    "_defaultOrder": 27,
    "_isFastLaunch": false,
    "category": "Compute optimized",
    "gpuNum": 0,
    "hideHardwareSpecs": false,
    "memoryGiB": 144,
    "name": "ml.c5.18xlarge",
    "vcpuNum": 72
   },
   {
    "_defaultOrder": 28,
    "_isFastLaunch": false,
    "category": "Compute optimized",
    "gpuNum": 0,
    "hideHardwareSpecs": false,
    "memoryGiB": 192,
    "name": "ml.c5.24xlarge",
    "vcpuNum": 96
   },
   {
    "_defaultOrder": 29,
    "_isFastLaunch": true,
    "category": "Accelerated computing",
    "gpuNum": 1,
    "hideHardwareSpecs": false,
    "memoryGiB": 16,
    "name": "ml.g4dn.xlarge",
    "vcpuNum": 4
   },
   {
    "_defaultOrder": 30,
    "_isFastLaunch": false,
    "category": "Accelerated computing",
    "gpuNum": 1,
    "hideHardwareSpecs": false,
    "memoryGiB": 32,
    "name": "ml.g4dn.2xlarge",
    "vcpuNum": 8
   },
   {
    "_defaultOrder": 31,
    "_isFastLaunch": false,
    "category": "Accelerated computing",
    "gpuNum": 1,
    "hideHardwareSpecs": false,
    "memoryGiB": 64,
    "name": "ml.g4dn.4xlarge",
    "vcpuNum": 16
   },
   {
    "_defaultOrder": 32,
    "_isFastLaunch": false,
    "category": "Accelerated computing",
    "gpuNum": 1,
    "hideHardwareSpecs": false,
    "memoryGiB": 128,
    "name": "ml.g4dn.8xlarge",
    "vcpuNum": 32
   },
   {
    "_defaultOrder": 33,
    "_isFastLaunch": false,
    "category": "Accelerated computing",
    "gpuNum": 4,
    "hideHardwareSpecs": false,
    "memoryGiB": 192,
    "name": "ml.g4dn.12xlarge",
    "vcpuNum": 48
   },
   {
    "_defaultOrder": 34,
    "_isFastLaunch": false,
    "category": "Accelerated computing",
    "gpuNum": 1,
    "hideHardwareSpecs": false,
    "memoryGiB": 256,
    "name": "ml.g4dn.16xlarge",
    "vcpuNum": 64
   },
   {
    "_defaultOrder": 35,
    "_isFastLaunch": false,
    "category": "Accelerated computing",
    "gpuNum": 1,
    "hideHardwareSpecs": false,
    "memoryGiB": 61,
    "name": "ml.p3.2xlarge",
    "vcpuNum": 8
   },
   {
    "_defaultOrder": 36,
    "_isFastLaunch": false,
    "category": "Accelerated computing",
    "gpuNum": 4,
    "hideHardwareSpecs": false,
    "memoryGiB": 244,
    "name": "ml.p3.8xlarge",
    "vcpuNum": 32
   },
   {
    "_defaultOrder": 37,
    "_isFastLaunch": false,
    "category": "Accelerated computing",
    "gpuNum": 8,
    "hideHardwareSpecs": false,
    "memoryGiB": 488,
    "name": "ml.p3.16xlarge",
    "vcpuNum": 64
   },
   {
    "_defaultOrder": 38,
    "_isFastLaunch": false,
    "category": "Accelerated computing",
    "gpuNum": 8,
    "hideHardwareSpecs": false,
    "memoryGiB": 768,
    "name": "ml.p3dn.24xlarge",
    "vcpuNum": 96
   },
   {
    "_defaultOrder": 39,
    "_isFastLaunch": false,
    "category": "Memory Optimized",
    "gpuNum": 0,
    "hideHardwareSpecs": false,
    "memoryGiB": 16,
    "name": "ml.r5.large",
    "vcpuNum": 2
   },
   {
    "_defaultOrder": 40,
    "_isFastLaunch": false,
    "category": "Memory Optimized",
    "gpuNum": 0,
    "hideHardwareSpecs": false,
    "memoryGiB": 32,
    "name": "ml.r5.xlarge",
    "vcpuNum": 4
   },
   {
    "_defaultOrder": 41,
    "_isFastLaunch": false,
    "category": "Memory Optimized",
    "gpuNum": 0,
    "hideHardwareSpecs": false,
    "memoryGiB": 64,
    "name": "ml.r5.2xlarge",
    "vcpuNum": 8
   },
   {
    "_defaultOrder": 42,
    "_isFastLaunch": false,
    "category": "Memory Optimized",
    "gpuNum": 0,
    "hideHardwareSpecs": false,
    "memoryGiB": 128,
    "name": "ml.r5.4xlarge",
    "vcpuNum": 16
   },
   {
    "_defaultOrder": 43,
    "_isFastLaunch": false,
    "category": "Memory Optimized",
    "gpuNum": 0,
    "hideHardwareSpecs": false,
    "memoryGiB": 256,
    "name": "ml.r5.8xlarge",
    "vcpuNum": 32
   },
   {
    "_defaultOrder": 44,
    "_isFastLaunch": false,
    "category": "Memory Optimized",
    "gpuNum": 0,
    "hideHardwareSpecs": false,
    "memoryGiB": 384,
    "name": "ml.r5.12xlarge",
    "vcpuNum": 48
   },
   {
    "_defaultOrder": 45,
    "_isFastLaunch": false,
    "category": "Memory Optimized",
    "gpuNum": 0,
    "hideHardwareSpecs": false,
    "memoryGiB": 512,
    "name": "ml.r5.16xlarge",
    "vcpuNum": 64
   },
   {
    "_defaultOrder": 46,
    "_isFastLaunch": false,
    "category": "Memory Optimized",
    "gpuNum": 0,
    "hideHardwareSpecs": false,
    "memoryGiB": 768,
    "name": "ml.r5.24xlarge",
    "vcpuNum": 96
   },
   {
    "_defaultOrder": 47,
    "_isFastLaunch": false,
    "category": "Accelerated computing",
    "gpuNum": 1,
    "hideHardwareSpecs": false,
    "memoryGiB": 16,
    "name": "ml.g5.xlarge",
    "vcpuNum": 4
   },
   {
    "_defaultOrder": 48,
    "_isFastLaunch": false,
    "category": "Accelerated computing",
    "gpuNum": 1,
    "hideHardwareSpecs": false,
    "memoryGiB": 32,
    "name": "ml.g5.2xlarge",
    "vcpuNum": 8
   },
   {
    "_defaultOrder": 49,
    "_isFastLaunch": false,
    "category": "Accelerated computing",
    "gpuNum": 1,
    "hideHardwareSpecs": false,
    "memoryGiB": 64,
    "name": "ml.g5.4xlarge",
    "vcpuNum": 16
   },
   {
    "_defaultOrder": 50,
    "_isFastLaunch": false,
    "category": "Accelerated computing",
    "gpuNum": 1,
    "hideHardwareSpecs": false,
    "memoryGiB": 128,
    "name": "ml.g5.8xlarge",
    "vcpuNum": 32
   },
   {
    "_defaultOrder": 51,
    "_isFastLaunch": false,
    "category": "Accelerated computing",
    "gpuNum": 1,
    "hideHardwareSpecs": false,
    "memoryGiB": 256,
    "name": "ml.g5.16xlarge",
    "vcpuNum": 64
   },
   {
    "_defaultOrder": 52,
    "_isFastLaunch": false,
    "category": "Accelerated computing",
    "gpuNum": 4,
    "hideHardwareSpecs": false,
    "memoryGiB": 192,
    "name": "ml.g5.12xlarge",
    "vcpuNum": 48
   },
   {
    "_defaultOrder": 53,
    "_isFastLaunch": false,
    "category": "Accelerated computing",
    "gpuNum": 4,
    "hideHardwareSpecs": false,
    "memoryGiB": 384,
    "name": "ml.g5.24xlarge",
    "vcpuNum": 96
   },
   {
    "_defaultOrder": 54,
    "_isFastLaunch": false,
    "category": "Accelerated computing",
    "gpuNum": 8,
    "hideHardwareSpecs": false,
    "memoryGiB": 768,
    "name": "ml.g5.48xlarge",
    "vcpuNum": 192
   },
   {
    "_defaultOrder": 55,
    "_isFastLaunch": false,
    "category": "Accelerated computing",
    "gpuNum": 8,
    "hideHardwareSpecs": false,
    "memoryGiB": 1152,
    "name": "ml.p4d.24xlarge",
    "vcpuNum": 96
   },
   {
    "_defaultOrder": 56,
    "_isFastLaunch": false,
    "category": "Accelerated computing",
    "gpuNum": 8,
    "hideHardwareSpecs": false,
    "memoryGiB": 1152,
    "name": "ml.p4de.24xlarge",
    "vcpuNum": 96
   }
  ],
  "instance_type": "ml.g4dn.xlarge",
  "kernelspec": {
   "display_name": "Python 3 (PyTorch 1.10 Python 3.8 GPU Optimized)",
   "language": "python",
   "name": "python3__SAGEMAKER_INTERNAL__arn:aws:sagemaker:us-east-1:081325390199:image/pytorch-1.10-gpu-py38"
  },
  "language_info": {
   "codemirror_mode": {
    "name": "ipython",
    "version": 3
   },
   "file_extension": ".py",
   "mimetype": "text/x-python",
   "name": "python",
   "nbconvert_exporter": "python",
   "pygments_lexer": "ipython3",
   "version": "3.8.10"
  }
 },
 "nbformat": 4,
 "nbformat_minor": 5
}
